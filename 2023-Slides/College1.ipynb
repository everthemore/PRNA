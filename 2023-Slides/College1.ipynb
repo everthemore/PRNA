{
 "cells": [
  {
   "cell_type": "markdown",
   "id": "e4b3a9de",
   "metadata": {
    "slideshow": {
     "slide_type": "slide"
    }
   },
   "source": [
    "# Programmeer Methoden NA\n",
    "\n",
    "## College #1\n",
    "\n",
    "### Evert van Nieuwenburg"
   ]
  },
  {
   "cell_type": "markdown",
   "id": "65e160bc",
   "metadata": {
    "slideshow": {
     "slide_type": "slide"
    }
   },
   "source": [
    "# Het team\n",
    "\n",
    "- Er zijn 9 assistenten\n",
    "  \n",
    "- Er zijn twee docenten\n",
    "  - Tomas Stolker (STRW)\n",
    "  - Evert van Nieuwenburg (LIACS & LION)\n",
    "  \n",
    "- Bereik ons via: prna@liacs.leidenuniv.nl"
   ]
  },
  {
   "cell_type": "markdown",
   "id": "b4dda6e0",
   "metadata": {
    "slideshow": {
     "slide_type": "slide"
    }
   },
   "source": [
    "# De opzet van dit vak\n",
    "\n",
    "- Interactieve hoorcolleges -> dus zoveel als mogelijk \"BYOD\". \n",
    "  - Soms doen we een mini werkcollege tijdens het hoorcollege!\n",
    "- Werkcolleges -> Werken aan opdrachten die worden ingeleverd voor cijfer\n",
    "- Er zijn 4 thema's van elk 3 weken, met 1 inleveropdracht per thema.\n",
    "- Cijfer = Gemiddelde van 4 inleveropdrachten"
   ]
  },
  {
   "cell_type": "markdown",
   "id": "075c6824",
   "metadata": {
    "slideshow": {
     "slide_type": "subslide"
    }
   },
   "source": [
    "## Themas:\n",
    "* Getallen, vectoren en matrices\n",
    "* Afgeleiden en Integralen\n",
    "* Simulaties\n",
    "* Data Analyse"
   ]
  },
  {
   "cell_type": "markdown",
   "id": "f3a8aa68",
   "metadata": {
    "slideshow": {
     "slide_type": "slide"
    }
   },
   "source": [
    "# Waarom programmeren?!\n",
    "\n",
    "- Interface met experimenten (besturen van laser, telescoop, ...)\n",
    "- Systemen zo complex dat simulaties nodig zijn\n",
    "- Data analyse (metingen in natuurkunde, observaties in sterrenkunde)\n",
    "- Machine learning is overal"
   ]
  },
  {
   "cell_type": "markdown",
   "id": "7f654da3",
   "metadata": {
    "slideshow": {
     "slide_type": "subslide"
    }
   },
   "source": [
    "### Oftewel: je kunt er (bijna) niet omheen"
   ]
  },
  {
   "cell_type": "markdown",
   "id": "7c058948",
   "metadata": {
    "slideshow": {
     "slide_type": "slide"
    }
   },
   "source": [
    "## Maar what about ChatGPT?\n",
    "\n",
    "- Mag! Daar kun je ook bijna niet omheen.\n",
    "- Programmeren is heel doelgericht, en het is zonde als je alles opnieuw moet schrijven steeds.\n",
    "- Bedenk je wel dat ChatGPT niet garandeert dat dingen echt correct zijn. \n",
    "    - Het zijn *juist* de speciale gevallen waar je dan bugs in je code krijgt. \n"
   ]
  },
  {
   "cell_type": "markdown",
   "id": "d614c02f",
   "metadata": {
    "slideshow": {
     "slide_type": "slide"
    }
   },
   "source": [
    "# Interactieve slides"
   ]
  },
  {
   "cell_type": "code",
   "execution_count": null,
   "id": "8089c605",
   "metadata": {
    "slideshow": {
     "slide_type": "-"
    }
   },
   "outputs": [],
   "source": []
  },
  {
   "cell_type": "markdown",
   "id": "41cfe308",
   "metadata": {
    "slideshow": {
     "slide_type": "slide"
    }
   },
   "source": [
    "## Interactieve colleges\n",
    "\n",
    "# https://wooclap.com \n",
    "\n",
    "# OPUDMS"
   ]
  },
  {
   "cell_type": "markdown",
   "id": "bc8b7892",
   "metadata": {
    "slideshow": {
     "slide_type": "slide"
    }
   },
   "source": [
    "# Python code kun je schrijven in elke editor\n",
    "\n",
    "- Maar het is wel fijn om ook gelijk de code te kunnen testen\n",
    "- Die combinatie van editor + uitvoeren heet een 'IDE' (Integrated Development Environment)."
   ]
  },
  {
   "cell_type": "markdown",
   "id": "1fc950df",
   "metadata": {
    "slideshow": {
     "slide_type": "subslide"
    }
   },
   "source": [
    "## Voorbeelden van IDEs\n",
    "- [Visual Studio Code](https://code.visualstudio.com/)\n",
    "- [Spyder](https://www.spyder-ide.org/)\n",
    "- [Jupyter Notebooks](https://jupyter.org/)\n",
    "- [Google Colab](https://colab.google)\n",
    "- Text editor en een terminal\n",
    "- ..."
   ]
  },
  {
   "cell_type": "markdown",
   "id": "b6efbb0f",
   "metadata": {
    "slideshow": {
     "slide_type": "slide"
    }
   },
   "source": [
    "# Anaconda: één pakket voor alles\n",
    "\n",
    "![Anaconda](https://anaconda.cloud/assets/images/logos/Anaconda-Horizontal-Full-Color-2x.webp)"
   ]
  },
  {
   "cell_type": "markdown",
   "id": "287413f4",
   "metadata": {
    "slideshow": {
     "slide_type": "subslide"
    }
   },
   "source": [
    "# Opdracht: anaconda installeren\n",
    "\n",
    "Download: https://www.anaconda.com/\n",
    "\n",
    "### Alternatief als dit nu niet lukt (geen internet? eduroam!)\n",
    "\n",
    "https://colab.google/"
   ]
  },
  {
   "cell_type": "markdown",
   "id": "af066673",
   "metadata": {
    "slideshow": {
     "slide_type": "subslide"
    }
   },
   "source": [
    "### Alternatief alternatief als het écht niet wil\n",
    "- Misschien heb je een medestudent in de buurt waar je mee kunt kijken\n",
    "- Pen en papier werkt voor korte opdrachten ook!\n",
    "- Zorg dat het voor volgend college wel lukt :)"
   ]
  },
  {
   "cell_type": "markdown",
   "id": "49cd391b",
   "metadata": {
    "slideshow": {
     "slide_type": "slide"
    }
   },
   "source": [
    "# Korte break zodat iedereen de kans krijgt om te installeren of om bij iemand te gaan zitten en mee te kijken"
   ]
  },
  {
   "cell_type": "markdown",
   "id": "106ff8e5",
   "metadata": {
    "slideshow": {
     "slide_type": "slide"
    }
   },
   "source": [
    "## (Misschien) je eerste programma"
   ]
  },
  {
   "cell_type": "markdown",
   "id": "76b76141",
   "metadata": {
    "slideshow": {
     "slide_type": "slide"
    }
   },
   "source": [
    "# Uitvoer voorbeeld: `print()`\n",
    "\n",
    "* Open je IDE\n",
    "* Maak een nieuw bestand: oefening.py\n",
    "* Vul het bestand met:\n",
    "```\n",
    "print(\"Hello, world!\")\n",
    "print(\"Wat leuk, het werkt, denk ik?!\")\n",
    "print('Werkt dit met andere haakjes ook?!')\n",
    "print('En werkt \"dit\"?')\n",
    "```\n",
    "* Run je programma"
   ]
  },
  {
   "cell_type": "code",
   "execution_count": 1,
   "id": "b4dc08b2",
   "metadata": {
    "slideshow": {
     "slide_type": "subslide"
    }
   },
   "outputs": [
    {
     "name": "stdout",
     "output_type": "stream",
     "text": [
      "Hello, world!\n",
      "Wat leuk, het werkt, denk ik?!\n",
      "Werkt dit met andere haakjes ook?!\n",
      "En werkt \"dit\"?\n"
     ]
    }
   ],
   "source": [
    "print(\"Hello, world!\")\n",
    "print(\"Wat leuk, het werkt, denk ik?!\")\n",
    "print('Werkt dit met andere haakjes ook?!')\n",
    "print('En werkt \"dit\"?')"
   ]
  },
  {
   "cell_type": "markdown",
   "id": "cd9036ee",
   "metadata": {
    "slideshow": {
     "slide_type": "subslide"
    }
   },
   "source": [
    "Heb je gezien dat er verschillende ' en \" werden gebruikt?\n",
    "Kreeg je errors, en kon je daar iets mee om het te fixen?"
   ]
  },
  {
   "cell_type": "code",
   "execution_count": 2,
   "id": "4ff93303",
   "metadata": {},
   "outputs": [
    {
     "name": "stdout",
     "output_type": "stream",
     "text": [
      "Het is vandaag 12 september\n"
     ]
    }
   ],
   "source": [
    "print(\"Het is vandaag\", 5+7, \"september\")"
   ]
  },
  {
   "cell_type": "markdown",
   "id": "da0d72f1",
   "metadata": {
    "slideshow": {
     "slide_type": "slide"
    }
   },
   "source": [
    "# Er zijn twee soorten Python programma's\n",
    "\n",
    "1) Als los `*.py` bestand, dan heet het een python *script*\n",
    "2) Interactief, via een *notebook*\n",
    "\n",
    "Beide opties zul je tegenkomen, en je kunt relatief makkelijk de een omzetten in de andere. "
   ]
  },
  {
   "cell_type": "markdown",
   "id": "eaca8427",
   "metadata": {
    "slideshow": {
     "slide_type": "slide"
    }
   },
   "source": [
    "# Een (python) programma bestaat uit:\n",
    "\n",
    "- **Input (invoer)**\n",
    "Het inlezen van invoer van bijv. het toetsenbord, een bestand of een andere externe bron.\n",
    "\n",
    "- **Output (uitvoer)**\n",
    "Het schrijven van data naar een bestand, of naar het scherm. Of naar een database, etc. \n",
    "\n",
    "- **Berekeningen**\n",
    "Berekeningen uitvoeren op data, zoals bijvoorbeeld wiskunde berekeningen als vermenigvuldigen of optellen.\n",
    "\n",
    "- **Conditionele stappen (als dit, dan dat)**\n",
    "Verifiëren of een bepaalde conditie waar is, en afhankelijk daarvan specifieke acties nemen.\n",
    "\n",
    "- **Herhaling**\n",
    "Het herhalen van bepaalde stappen of stukken van een stuk code, vaak met kleine variaties tussen de stappen."
   ]
  },
  {
   "cell_type": "markdown",
   "id": "a6a05588",
   "metadata": {
    "slideshow": {
     "slide_type": "slide"
    }
   },
   "source": [
    "## Invoer met `input()`\n",
    "\n",
    "- Maak een nieuw bestand, `naam.py`, en typ over:\n",
    "``` \n",
    "naam = input(\"Wat is uw naam? \")\n",
    "print(\"Hallo, \", naam, \"!\")\n",
    "```\n",
    "- Run het programma"
   ]
  },
  {
   "cell_type": "code",
   "execution_count": 9,
   "id": "8c748917",
   "metadata": {
    "slideshow": {
     "slide_type": "subslide"
    }
   },
   "outputs": [
    {
     "name": "stdout",
     "output_type": "stream",
     "text": [
      "Wat is uw naam? Evert\n",
      "Hallo, Evert !\n",
      "Hallo, Evert!\n"
     ]
    }
   ],
   "source": [
    "naam = input(\"Wat is uw naam? \")\n",
    "print(\"Hallo,\", naam, \"!\")\n",
    "print(f\"Hallo, {naam}!\")"
   ]
  },
  {
   "cell_type": "markdown",
   "id": "256bd8a6",
   "metadata": {
    "slideshow": {
     "slide_type": "slide"
    }
   },
   "source": [
    "## Variabelen\n",
    "\n",
    "In `naam = input(\"Wat is uw naam? \")`, is `naam` een variabele waar het antwoord van de gebruiker in is opgeslagen.\n",
    "Andere voorbeelden zijn\n",
    "\n",
    "```\n",
    "a = 5\n",
    "getal = 3.7\n",
    "voornaam = \"Evert\"\n",
    "fibonacci_getallen = [1, 1, 2, 3, 5, 8, 13]\n",
    "boodschappen = [\"appels\", \"brood\"]\n",
    "```"
   ]
  },
  {
   "cell_type": "markdown",
   "id": "d3e06229",
   "metadata": {
    "slideshow": {
     "slide_type": "subslide"
    }
   },
   "source": [
    "Variabelen hebben een type:\n",
    "\n",
    "```\n",
    "a = 5 # `int` (voor `integer` = geheel getal)\n",
    "getal = 3.7 # `float` (voor `floating point number` = kommagetal)\n",
    "voornaam = \"Evert\" # `string` (voor een `string of characters`)\n",
    "fibonacci_getallen = [1, 1, 2, 3, 5, 8, 13] # `lijst`\n",
    "boodschappen = [\"appels\", \"brood\"] # `lijst`\n",
    "```"
   ]
  },
  {
   "cell_type": "code",
   "execution_count": 14,
   "id": "5e00219e",
   "metadata": {
    "slideshow": {
     "slide_type": "subslide"
    }
   },
   "outputs": [
    {
     "name": "stdout",
     "output_type": "stream",
     "text": [
      "<class 'float'>\n",
      "<class 'str'>\n"
     ]
    }
   ],
   "source": [
    "getal = 3.7\n",
    "print(type(getal))\n",
    "voornaam = 'Eva'\n",
    "print(type(voornaam))"
   ]
  },
  {
   "cell_type": "markdown",
   "id": "da9b7efb",
   "metadata": {
    "slideshow": {
     "slide_type": "slide"
    }
   },
   "source": [
    "## `input()` geeft als antwoord altijd een `string` terug\n",
    "\n",
    "- Probeer zelf, maak `leeftijd.py`\n",
    "```\n",
    "leeftijd = input(\"Wat is uw leeftijd? \")\n",
    "print(\"3x uw leeftijd is:\", leeftijd*3)\n",
    "```"
   ]
  },
  {
   "cell_type": "code",
   "execution_count": 10,
   "id": "e25ba8b4",
   "metadata": {
    "slideshow": {
     "slide_type": "subslide"
    }
   },
   "outputs": [
    {
     "name": "stdout",
     "output_type": "stream",
     "text": [
      "Wat is uw leeftijd? 10\n",
      "3x uw leeftijd is: 101010\n"
     ]
    }
   ],
   "source": [
    "leeftijd = input(\"Wat is uw leeftijd? \")\n",
    "print(\"3x uw leeftijd is:\", leeftijd*3)"
   ]
  },
  {
   "cell_type": "markdown",
   "id": "4a90a473",
   "metadata": {
    "slideshow": {
     "slide_type": "subslide"
    }
   },
   "source": [
    "## `int()` en `float()` to the rescue"
   ]
  },
  {
   "cell_type": "code",
   "execution_count": 15,
   "id": "1c59d880",
   "metadata": {},
   "outputs": [
    {
     "ename": "KeyboardInterrupt",
     "evalue": "Interrupted by user",
     "output_type": "error",
     "traceback": [
      "\u001b[0;31m---------------------------------------------------------------------------\u001b[0m",
      "\u001b[0;31mKeyboardInterrupt\u001b[0m                         Traceback (most recent call last)",
      "Cell \u001b[0;32mIn[15], line 1\u001b[0m\n\u001b[0;32m----> 1\u001b[0m leeftijd \u001b[38;5;241m=\u001b[39m \u001b[38;5;28mint\u001b[39m(\u001b[38;5;28minput\u001b[39m(\u001b[38;5;124m\"\u001b[39m\u001b[38;5;124mWat is uw leeftijd? \u001b[39m\u001b[38;5;124m\"\u001b[39m))\n\u001b[1;32m      2\u001b[0m \u001b[38;5;28mprint\u001b[39m(\u001b[38;5;124m\"\u001b[39m\u001b[38;5;124m3x uw leeftijd is:\u001b[39m\u001b[38;5;124m\"\u001b[39m, leeftijd\u001b[38;5;241m*\u001b[39m\u001b[38;5;241m3\u001b[39m)\n",
      "File \u001b[0;32m~/anaconda3/lib/python3.11/site-packages/ipykernel/kernelbase.py:1175\u001b[0m, in \u001b[0;36mKernel.raw_input\u001b[0;34m(self, prompt)\u001b[0m\n\u001b[1;32m   1171\u001b[0m \u001b[38;5;28;01mif\u001b[39;00m \u001b[38;5;129;01mnot\u001b[39;00m \u001b[38;5;28mself\u001b[39m\u001b[38;5;241m.\u001b[39m_allow_stdin:\n\u001b[1;32m   1172\u001b[0m     \u001b[38;5;28;01mraise\u001b[39;00m StdinNotImplementedError(\n\u001b[1;32m   1173\u001b[0m         \u001b[38;5;124m\"\u001b[39m\u001b[38;5;124mraw_input was called, but this frontend does not support input requests.\u001b[39m\u001b[38;5;124m\"\u001b[39m\n\u001b[1;32m   1174\u001b[0m     )\n\u001b[0;32m-> 1175\u001b[0m \u001b[38;5;28;01mreturn\u001b[39;00m \u001b[38;5;28mself\u001b[39m\u001b[38;5;241m.\u001b[39m_input_request(\n\u001b[1;32m   1176\u001b[0m     \u001b[38;5;28mstr\u001b[39m(prompt),\n\u001b[1;32m   1177\u001b[0m     \u001b[38;5;28mself\u001b[39m\u001b[38;5;241m.\u001b[39m_parent_ident[\u001b[38;5;124m\"\u001b[39m\u001b[38;5;124mshell\u001b[39m\u001b[38;5;124m\"\u001b[39m],\n\u001b[1;32m   1178\u001b[0m     \u001b[38;5;28mself\u001b[39m\u001b[38;5;241m.\u001b[39mget_parent(\u001b[38;5;124m\"\u001b[39m\u001b[38;5;124mshell\u001b[39m\u001b[38;5;124m\"\u001b[39m),\n\u001b[1;32m   1179\u001b[0m     password\u001b[38;5;241m=\u001b[39m\u001b[38;5;28;01mFalse\u001b[39;00m,\n\u001b[1;32m   1180\u001b[0m )\n",
      "File \u001b[0;32m~/anaconda3/lib/python3.11/site-packages/ipykernel/kernelbase.py:1217\u001b[0m, in \u001b[0;36mKernel._input_request\u001b[0;34m(self, prompt, ident, parent, password)\u001b[0m\n\u001b[1;32m   1214\u001b[0m             \u001b[38;5;28;01mbreak\u001b[39;00m\n\u001b[1;32m   1215\u001b[0m \u001b[38;5;28;01mexcept\u001b[39;00m \u001b[38;5;167;01mKeyboardInterrupt\u001b[39;00m:\n\u001b[1;32m   1216\u001b[0m     \u001b[38;5;66;03m# re-raise KeyboardInterrupt, to truncate traceback\u001b[39;00m\n\u001b[0;32m-> 1217\u001b[0m     \u001b[38;5;28;01mraise\u001b[39;00m \u001b[38;5;167;01mKeyboardInterrupt\u001b[39;00m(\u001b[38;5;124m\"\u001b[39m\u001b[38;5;124mInterrupted by user\u001b[39m\u001b[38;5;124m\"\u001b[39m) \u001b[38;5;28;01mfrom\u001b[39;00m \u001b[38;5;28;01mNone\u001b[39;00m\n\u001b[1;32m   1218\u001b[0m \u001b[38;5;28;01mexcept\u001b[39;00m \u001b[38;5;167;01mException\u001b[39;00m:\n\u001b[1;32m   1219\u001b[0m     \u001b[38;5;28mself\u001b[39m\u001b[38;5;241m.\u001b[39mlog\u001b[38;5;241m.\u001b[39mwarning(\u001b[38;5;124m\"\u001b[39m\u001b[38;5;124mInvalid Message:\u001b[39m\u001b[38;5;124m\"\u001b[39m, exc_info\u001b[38;5;241m=\u001b[39m\u001b[38;5;28;01mTrue\u001b[39;00m)\n",
      "\u001b[0;31mKeyboardInterrupt\u001b[0m: Interrupted by user"
     ]
    }
   ],
   "source": [
    "leeftijd = int(input(\"Wat is uw leeftijd? \"))\n",
    "print(\"3x uw leeftijd is:\", leeftijd*3)"
   ]
  },
  {
   "cell_type": "markdown",
   "id": "52e070c6",
   "metadata": {
    "slideshow": {
     "slide_type": "slide"
    }
   },
   "source": [
    "## Opdracht\n",
    "\n",
    "Maak een nieuw programma, `optellen.py` dat:\n",
    "- De gebruiker eerst vraagt om een geheel getal (noem dat `getal1`)\n",
    "- De gebruiker dan vraagt om een tweede geheel getal (`getal2`)\n",
    "- Vervolgens de som van beiden print"
   ]
  },
  {
   "cell_type": "markdown",
   "id": "d728321a",
   "metadata": {
    "slideshow": {
     "slide_type": "slide"
    }
   },
   "source": [
    "# Jupyter notebooks\n",
    "\n",
    "Steeds nieuwe `.py` bestandjes maken is een beetje veel voor zulke korte programma's. \n",
    "Dan is het makkelijk om met jupyter notebooks te werken, daar kun je `cellen` 1-voor-1 uitvoeren \n",
    "alsof het korte bestandjes zijn."
   ]
  },
  {
   "cell_type": "markdown",
   "id": "d5c2d958",
   "metadata": {
    "slideshow": {
     "slide_type": "slide"
    }
   },
   "source": [
    "# Een (python) programma bestaat uit:\n",
    "\n",
    "- ~**Input (invoer)**\n",
    "Het inlezen van invoer van bijv. het toetsenbord, een bestand of een andere externe bron.~\n",
    "\n",
    "- ~**Output (uitvoer)**\n",
    "Het schrijven van data naar een bestand, of naar het scherm. Of naar een database, etc.~\n",
    "\n",
    "- ~**Berekeningen**\n",
    "Berekeningen uitvoeren op data, zoals bijvoorbeeld wiskunde berekeningen als vermenigvuldigen of optellen.~\n",
    "\n",
    "- **Conditionele stappen (als dit, dan dat)**\n",
    "Verifiëren of een bepaalde conditie waar is, en afhankelijk daarvan specifieke acties nemen.\n",
    "\n",
    "- **Herhaling**\n",
    "Het herhalen van bepaalde stappen of stukken van een stuk code, vaak met kleine variaties tussen de stappen."
   ]
  },
  {
   "cell_type": "markdown",
   "id": "e4020e00",
   "metadata": {
    "slideshow": {
     "slide_type": "slide"
    }
   },
   "source": [
    "## Conditionele elementen met `if` statements"
   ]
  },
  {
   "cell_type": "code",
   "execution_count": 17,
   "id": "a5ec5684",
   "metadata": {},
   "outputs": [
    {
     "name": "stdout",
     "output_type": "stream",
     "text": [
      "Wat is uw leeftijd? 34\n",
      "U krijgt geen seniorenkorting\n"
     ]
    }
   ],
   "source": [
    "leeftijd = int(input(\"Wat is uw leeftijd? \"))\n",
    "if leeftijd >= 65:\n",
    "    print(\"U krijgt seniorenkorting\")\n",
    "else:\n",
    "    print(\"U krijgt geen seniorenkorting\")"
   ]
  },
  {
   "cell_type": "markdown",
   "id": "e33ec945",
   "metadata": {
    "slideshow": {
     "slide_type": "slide"
    }
   },
   "source": [
    "## Er kunnen ook meerdere condities zijn"
   ]
  },
  {
   "cell_type": "code",
   "execution_count": 24,
   "id": "3492f8e3",
   "metadata": {},
   "outputs": [
    {
     "name": "stdout",
     "output_type": "stream",
     "text": [
      "Wat is uw leeftijd? 4\n",
      "Je bent nog niet oud genoeg, sorry.\n",
      "Over 12 jaar mag je wel!\n"
     ]
    }
   ],
   "source": [
    "leeftijd = int(input(\"Wat is uw leeftijd? \"))\n",
    "if leeftijd >= 0 and leeftijd < 16:\n",
    "    print(\"Je bent nog niet oud genoeg, sorry.\")\n",
    "    print(f\"Over {16 - leeftijd} jaar mag je wel!\")\n",
    "elif leeftijd >= 16 and leeftijd < 65:\n",
    "    print(\"U krijgt geen seniorenkorting\")\n",
    "elif leeftijd >= 65:\n",
    "    print(\"U krijgt seniorenkorting\")\n",
    "elif leeftijd == 33:\n",
    "    print(\"Hey, zo oud ben ik ook!\")\n",
    "else:\n",
    "    print(\"Voer een geldige leeftijd in\")"
   ]
  },
  {
   "cell_type": "markdown",
   "id": "a2c8a912",
   "metadata": {
    "slideshow": {
     "slide_type": "slide"
    }
   },
   "source": [
    "## Opdracht: quiz\n",
    "\n",
    "- Maak een nieuwe cel in je notebook, en definieer daarin `a = 5` en `b = 7`. \n",
    "- Vraag de gebruiker naar de som van a en b (gebruik `a` en `b` als variabelen)\n",
    "- Antwoordt met 'klopt!' als de gebruiker het juiste antwoord geeft, anders 'fout!'. "
   ]
  },
  {
   "cell_type": "code",
   "execution_count": null,
   "id": "e19631ba",
   "metadata": {
    "slideshow": {
     "slide_type": "subslide"
    }
   },
   "outputs": [],
   "source": []
  },
  {
   "cell_type": "markdown",
   "id": "1d05ea36",
   "metadata": {
    "slideshow": {
     "slide_type": "slide"
    }
   },
   "source": [
    "# Een (python) programma bestaat uit:\n",
    "\n",
    "- ~**Input (invoer)**\n",
    "Het inlezen van invoer van bijv. het toetsenbord, een bestand of een andere externe bron.~\n",
    "\n",
    "- ~**Output (uitvoer)**\n",
    "Het schrijven van data naar een bestand, of naar het scherm. Of naar een database, etc.~\n",
    "\n",
    "- ~**Berekeningen**\n",
    "Berekeningen uitvoeren op data, zoals bijvoorbeeld wiskunde berekeningen als vermenigvuldigen of optellen.~\n",
    "\n",
    "- ~**Conditionele stappen (als dit, dan dat)**\n",
    "Verifiëren of een bepaalde conditie waar is, en afhankelijk daarvan specifieke acties nemen.~\n",
    "\n",
    "- **Herhaling**\n",
    "Het herhalen van bepaalde stappen of stukken van een stuk code, vaak met kleine variaties tussen de stappen."
   ]
  },
  {
   "cell_type": "markdown",
   "id": "a3f99237",
   "metadata": {
    "slideshow": {
     "slide_type": "slide"
    }
   },
   "source": [
    "## Herhalingen met loops (`for`-loops en `while`-loops)"
   ]
  },
  {
   "cell_type": "code",
   "execution_count": 25,
   "id": "a5bfabe1",
   "metadata": {},
   "outputs": [
    {
     "name": "stdout",
     "output_type": "stream",
     "text": [
      "appels\n",
      "peren\n",
      "brood\n",
      "tandpasta\n"
     ]
    }
   ],
   "source": [
    "boodschappen = ['appels', 'peren', 'brood', 'tandpasta']\n",
    "for ding in boodschappen:\n",
    "    print(ding)"
   ]
  },
  {
   "cell_type": "markdown",
   "id": "f7808ccf",
   "metadata": {
    "slideshow": {
     "slide_type": "subslide"
    }
   },
   "source": [
    "## `range()` !"
   ]
  },
  {
   "cell_type": "code",
   "execution_count": 32,
   "id": "e184ec64",
   "metadata": {},
   "outputs": [
    {
     "name": "stdout",
     "output_type": "stream",
     "text": [
      "[0, 1, 2, 3, 4, 5, 6, 7, 8, 9]\n",
      "5\n",
      "6\n",
      "7\n",
      "8\n"
     ]
    }
   ],
   "source": [
    "lijst = list(range(0,10))\n",
    "print(lijst)\n",
    "\n",
    "for i in range(5, 9):\n",
    "    print(i)"
   ]
  },
  {
   "cell_type": "markdown",
   "id": "9b50a5d4",
   "metadata": {
    "slideshow": {
     "slide_type": "subslide"
    }
   },
   "source": [
    "`range()` kan vanalles: `range(start, stop, stapgrootte)`. Merk op dat range *tot* `stop` gaat, niet inclusief!"
   ]
  },
  {
   "cell_type": "code",
   "execution_count": 34,
   "id": "70132b2f",
   "metadata": {},
   "outputs": [
    {
     "name": "stdout",
     "output_type": "stream",
     "text": [
      "0\n",
      "2\n",
      "4\n",
      "6\n",
      "8\n"
     ]
    }
   ],
   "source": [
    "for i in range(0, 10, 2):\n",
    "    print(i)"
   ]
  },
  {
   "cell_type": "code",
   "execution_count": null,
   "id": "d2e14781",
   "metadata": {},
   "outputs": [],
   "source": []
  }
 ],
 "metadata": {
  "celltoolbar": "Slideshow",
  "kernelspec": {
   "display_name": "Python 3 (ipykernel)",
   "language": "python",
   "name": "python3"
  },
  "language_info": {
   "codemirror_mode": {
    "name": "ipython",
    "version": 3
   },
   "file_extension": ".py",
   "mimetype": "text/x-python",
   "name": "python",
   "nbconvert_exporter": "python",
   "pygments_lexer": "ipython3",
   "version": "3.11.4"
  }
 },
 "nbformat": 4,
 "nbformat_minor": 5
}
