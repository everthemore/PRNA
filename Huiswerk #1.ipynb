{
 "cells": [
  {
   "cell_type": "markdown",
   "id": "2fc589f8",
   "metadata": {},
   "source": [
    "# Huiswerk #1"
   ]
  },
  {
   "cell_type": "markdown",
   "id": "eb6a4019",
   "metadata": {},
   "source": [
    "### Gegevens"
   ]
  },
  {
   "cell_type": "markdown",
   "id": "5f1eab92",
   "metadata": {},
   "source": [
    "Naam:\n",
    "\n",
    "Studentnummer:"
   ]
  },
  {
   "cell_type": "markdown",
   "id": "5c86ed51",
   "metadata": {},
   "source": [
    "## Algemene opmerkingen"
   ]
  },
  {
   "cell_type": "markdown",
   "id": "3a70f84d",
   "metadata": {},
   "source": [
    "- Dit notebook moet worden ingeleverd op BrightSpace over ~3 weken.\n",
    "- Niet alle onderwerpen (zie hieronder) zijn al aan bod gekomen in college 1, sla die vragen gerust over totdat we ze behandeld hebben.\n",
    "- Er zijn in totaal 115 punten te halen, waarbij alle scores van 100 en hoger tellen als een 10. \n",
    "  - De beoordeling van de opgaven gaat niet alleen over het juiste resultaat, maar ook over de leesbaarheid en structuur van de code. Zorg er dus voor dat het goed na te kijken is, en dat je code comments heeft die uitleggen wat er gebeurt.\n",
    "- Voer de cel hieronder ook uit, die importeert twee modules die je in deze huiswerk set nodig hebt"
   ]
  },
  {
   "cell_type": "code",
   "execution_count": null,
   "id": "b65eb456",
   "metadata": {},
   "outputs": [],
   "source": [
    "import numpy as np\n",
    "import matplotlib.pyplot as plt"
   ]
  },
  {
   "cell_type": "markdown",
   "id": "af3ad1c3",
   "metadata": {},
   "source": [
    "## Onderwerpen"
   ]
  },
  {
   "cell_type": "markdown",
   "id": "d512ce19",
   "metadata": {},
   "source": [
    "* **invoer** en **uitvoer** met `input()` en `print()`\n",
    "* **variabelen** gebruiken en simpele wiskundige operaties\n",
    "  * `+, -, *, /, %, **`\n",
    "* **control flow** met `if` statements\n",
    "* **loops** (`for-loops` en `while-loops`)\n",
    "* lijsten\n",
    "  * elementen kiezen en aanpassen, elementen toevoegen\n",
    "* `numpy` (voor lineare algebra)\n",
    "  * numerieke arrays in plaats van lijsten met gemixte elementen\n",
    "  * 2D arrays (matrices)\n",
    "  * random getallen\n",
    "* functies\n",
    "* `matplotlib`\n",
    "  * grafieken plotten\n",
    "  * vectorvelden plotten"
   ]
  },
  {
   "cell_type": "markdown",
   "id": "f938a349",
   "metadata": {},
   "source": [
    "### Opgaven en puntenverdeling"
   ]
  },
  {
   "cell_type": "markdown",
   "id": "3dfcd749",
   "metadata": {},
   "source": [
    "* [Korte oefenopdrachten](#oefenopdrachten) (10pt)\n",
    "* [Getallen sommeren](#sommeren) (10pt)\n",
    "* [Wisselgeld](#wisselgeld) (10pt)\n",
    "* [Getallen gokken](#gokken) (10pt)\n",
    "* [Priemgetallen](#priemgetallen) (10pt)\n",
    "* [Goldbach](#goldbach) (10pt)\n",
    "* [Mario pyramides](#mario) (10pt)\n",
    "* [Bal omhoog schieten](#bal) (10pt)\n",
    "* [Vector velden](#vectorvelden) (10pt)\n",
    "* [Rotaties van vectoren met matrices](#rotaties) (10pt)\n",
    "* [Bonus: Boter-Kaas-en-Eieren](#boterkaaseieren) (10pt)\n",
    "* [Bonus Bonus: Ascii kubus](#ascii) (5pt)"
   ]
  },
  {
   "cell_type": "markdown",
   "id": "b5ae657e",
   "metadata": {},
   "source": [
    "## Korte oefenopdrachten <a class='anchor' id='oefenopdrachten'></a> (10 pt)"
   ]
  },
  {
   "cell_type": "markdown",
   "id": "36dd793b",
   "metadata": {},
   "source": [
    "Bij deze opgaven geldt: -0.5pt (van de max 10) per foute of oningevulde vraag"
   ]
  },
  {
   "cell_type": "markdown",
   "id": "992be35a",
   "metadata": {},
   "source": [
    "### Invoer/Uitvoer"
   ]
  },
  {
   "cell_type": "markdown",
   "id": "59c40e97",
   "metadata": {},
   "source": [
    "**[1]** Schrijf een kort programma dat de gebruiker vraagt om haar/zijn naam, en vervolgens \"Hallo, [naam]!\" als antwoord print. Gebruik `input()` en `print()`"
   ]
  },
  {
   "cell_type": "code",
   "execution_count": null,
   "id": "32e1ebac",
   "metadata": {},
   "outputs": [],
   "source": [
    "# Jouw code hier"
   ]
  },
  {
   "cell_type": "markdown",
   "id": "c78a6bfc",
   "metadata": {},
   "source": [
    "**[2]** Schrijf een kort programma dat de gebruiker vraagt om twee getallen in te voeren (in twee aparte vragen, dus niet tegelijk). Het programma vertelt de gebruiker vervolgens wat het product van beide getallen is. Je zult waarschijnlijk `int()` nodig hebben."
   ]
  },
  {
   "cell_type": "code",
   "execution_count": null,
   "id": "c7dcb1ee",
   "metadata": {},
   "outputs": [],
   "source": [
    "# Jouw code hier"
   ]
  },
  {
   "cell_type": "markdown",
   "id": "5942f68e",
   "metadata": {},
   "source": [
    "**[3]** Schrijf een kort programma dat de gebruiker vraagt 'Hoeveel minuten staat u per keer onder de douche?'. De gebruiker kan vervolgens een getal intypen, waarop het programma antwoordt met 'Dan verbruikt u per keer het equivalent van X flessen water'. Het getal X is dan het aantal minuten vermenigvuldigd met 6, omdat een minuut onder de douche ongeveer 6L water verbruikt (en we uitgaan van 1L flessen).  "
   ]
  },
  {
   "cell_type": "code",
   "execution_count": null,
   "id": "fa433927",
   "metadata": {},
   "outputs": [],
   "source": [
    "minuten_douche = input(\"Hoeveel minuten staat u per keer onder de douche?\")\n",
    "# Jouw code hier"
   ]
  },
  {
   "cell_type": "markdown",
   "id": "92c75107",
   "metadata": {},
   "source": [
    "**[4]** Bereken het cijfer voor een student die `behaalde_punten` aantal punten haalt voor deze huiswerkset. Het cijfer is het aantal punten gedeeld door 10, en is maximaal een 10."
   ]
  },
  {
   "cell_type": "code",
   "execution_count": null,
   "id": "fa22d4e1",
   "metadata": {},
   "outputs": [],
   "source": [
    "# Jouw code hier"
   ]
  },
  {
   "cell_type": "markdown",
   "id": "501940c8",
   "metadata": {},
   "source": [
    "### Loops"
   ]
  },
  {
   "cell_type": "markdown",
   "id": "8aff96d5",
   "metadata": {},
   "source": [
    "**[1]** Schrijf een for-loop die de getallen 1 tot en met 50 print."
   ]
  },
  {
   "cell_type": "code",
   "execution_count": null,
   "id": "a159e947",
   "metadata": {},
   "outputs": [],
   "source": [
    "# Jouw code hier"
   ]
  },
  {
   "cell_type": "markdown",
   "id": "240c7df9",
   "metadata": {},
   "source": [
    "**[2]** Schrijf een for-loop die de getallen 1 tot en met 50 print in stappen van 2."
   ]
  },
  {
   "cell_type": "code",
   "execution_count": null,
   "id": "c234f5a8",
   "metadata": {},
   "outputs": [],
   "source": [
    "# Jouw code hier"
   ]
  },
  {
   "cell_type": "markdown",
   "id": "0b881f53",
   "metadata": {},
   "source": [
    "**[3]** Schrijf een for-loop over de getallen 0 tot en met 100 in stappen van 4 loopt, en ze allemaal optelt. Print het resultaat"
   ]
  },
  {
   "cell_type": "code",
   "execution_count": null,
   "id": "4ad5819b",
   "metadata": {},
   "outputs": [],
   "source": [
    "# Jouw code hier"
   ]
  },
  {
   "cell_type": "markdown",
   "id": "ae678e57",
   "metadata": {},
   "source": [
    "**[4]** Schrijf een while-loop die het getal 128 blijft delen door 2 totdat het resultaat 1 is. Print de waarde van het getal elke stap."
   ]
  },
  {
   "cell_type": "code",
   "execution_count": null,
   "id": "8d590d48",
   "metadata": {},
   "outputs": [],
   "source": [
    "getal = 128\n",
    "# Jouw code hier"
   ]
  },
  {
   "cell_type": "markdown",
   "id": "b894dddf",
   "metadata": {},
   "source": [
    "**[5]** Gebaseerd op de vorige oefening, voeg een extra variabele `i` toe die bijhoudt hoevaak er al gedeeld is. Print de waarde van `i` aan het einde."
   ]
  },
  {
   "cell_type": "code",
   "execution_count": null,
   "id": "d365f429",
   "metadata": {},
   "outputs": [],
   "source": [
    "getal = 128\n",
    "# Jouw code hier"
   ]
  },
  {
   "cell_type": "markdown",
   "id": "bc5aeb4c",
   "metadata": {},
   "source": [
    "**[6]** Herschrijf de volgende code in een while-loop in plaats van een for-loop"
   ]
  },
  {
   "cell_type": "code",
   "execution_count": null,
   "id": "13dabd93",
   "metadata": {},
   "outputs": [],
   "source": [
    "for i in range(1, 5, 2):\n",
    "    print(i)\n",
    "    \n",
    "# Jouw code hier"
   ]
  },
  {
   "cell_type": "markdown",
   "id": "d408dd98",
   "metadata": {},
   "source": [
    "**[7]** Herschrijf de volgende code zodat er een for-loop in plaats van een while-loop gebruikt wordt"
   ]
  },
  {
   "cell_type": "code",
   "execution_count": null,
   "id": "be4d1095",
   "metadata": {},
   "outputs": [],
   "source": [
    "x = 2\n",
    "while x < 12:\n",
    "    print(x)\n",
    "    x += 3\n",
    "    \n",
    "# Jouw code hier"
   ]
  },
  {
   "cell_type": "markdown",
   "id": "cdb9043b",
   "metadata": {},
   "source": [
    "**[8]** Nu kijken we naar genestelde loops. Pas het volgende programma aan, zodat de output er als volgt uit komt te zien\n",
    "```\n",
    "x = 1, y = 1\n",
    "x = 1, y = 2\n",
    "x = 1, y = 3\n",
    "De waarde van x is nu 1, en we hebben nu de loop over y gehad.\n",
    "x = 2, y = 1\n",
    "x = 2, y = 2\n",
    "x = 2, y = 3\n",
    "De waarde van x is nu 2, en we hebben nu de loop over y gehad.\n",
    "...\n",
    "```\n"
   ]
  },
  {
   "cell_type": "code",
   "execution_count": null,
   "id": "dce543ef",
   "metadata": {},
   "outputs": [],
   "source": [
    "for x in range(1, 6):\n",
    "    for y in range(1,4):\n",
    "        print(f\"x = {x}, y = {y}\")"
   ]
  },
  {
   "cell_type": "markdown",
   "id": "7e74b08d",
   "metadata": {},
   "source": [
    "### Lijsten"
   ]
  },
  {
   "cell_type": "markdown",
   "id": "28eac957",
   "metadata": {},
   "source": [
    "**[1]** Print het eerste en laatste element van de lijst hieronder:"
   ]
  },
  {
   "cell_type": "code",
   "execution_count": null,
   "id": "aa30aabb",
   "metadata": {},
   "outputs": [],
   "source": [
    "lijst = [\"appel\", \"peer\", 5, 7.2, \"fruit\"]\n",
    "# Jouw code hier"
   ]
  },
  {
   "cell_type": "markdown",
   "id": "0e01a56f",
   "metadata": {},
   "source": [
    "**[2]** Verander het 4e element (7.2) van `lijst` naar \"meloen\", en print de lijst"
   ]
  },
  {
   "cell_type": "code",
   "execution_count": null,
   "id": "6f8477cd",
   "metadata": {},
   "outputs": [],
   "source": [
    "lijst = [\"appel\", \"peer\", 5, 7.2, \"fruit\"]\n",
    "# Jouw code hier"
   ]
  },
  {
   "cell_type": "markdown",
   "id": "c6cf14e4",
   "metadata": {},
   "source": [
    "**[3]** Schrijf een loop die elk element van de volgende lijst op een nieuwe regel print"
   ]
  },
  {
   "cell_type": "code",
   "execution_count": null,
   "id": "824e2a2b",
   "metadata": {},
   "outputs": [],
   "source": [
    "boodschappen_lijst = [\"5 appels\", \"1 pak meel\", \"1 potje kaneel\", \"1 pak boter\", \"1 citroen\"]\n",
    "# Jouw code hier"
   ]
  },
  {
   "cell_type": "markdown",
   "id": "e7c4f783",
   "metadata": {},
   "source": [
    "**[4]** Voeg het element `banaan` toe aan de lijst, en print de lijst"
   ]
  },
  {
   "cell_type": "code",
   "execution_count": null,
   "id": "6da6a821",
   "metadata": {},
   "outputs": [],
   "source": [
    "lijst = [\"appel\", \"peer\", 5, 7.2, \"fruit\"]\n",
    "# Jouw code hier"
   ]
  },
  {
   "cell_type": "markdown",
   "id": "8c48a6e2",
   "metadata": {},
   "source": [
    "**[5]** Schrijf een loop die een lijst maakt met de getallen van 1 tot en *met* 30. \n",
    "\n",
    "**Tip**: als je nu denkt aan het zelf typen van een lijst `[1, 2, 3, ..., 30]`, zoek dan nog eens naar de functie `range()`"
   ]
  },
  {
   "cell_type": "code",
   "execution_count": null,
   "id": "1e9fe403",
   "metadata": {},
   "outputs": [],
   "source": [
    "# Jouw code hier"
   ]
  },
  {
   "cell_type": "markdown",
   "id": "a980a411",
   "metadata": {},
   "source": [
    "**[6]** Schrijf een loop die de som van de onderstaande elementen berekend en print"
   ]
  },
  {
   "cell_type": "code",
   "execution_count": null,
   "id": "58a5f127",
   "metadata": {},
   "outputs": [],
   "source": [
    "lijst = [9, 10, 11, 12]\n",
    "som = 0\n",
    "# Jouw code hier"
   ]
  },
  {
   "cell_type": "markdown",
   "id": "ba47752f",
   "metadata": {},
   "source": [
    "**[7]** De onderstaande code loopt over elk element van de lijst `nummers` hieronder. Als het getal groter is dan 5, wordt het aan de lijst `nummers2` toegevoegd. Pas deze code aan, zodat alleen getallen groter dan 5 en kleiner dan 16 in de lijst `nummers2` komen."
   ]
  },
  {
   "cell_type": "code",
   "execution_count": null,
   "id": "c68e2a87",
   "metadata": {},
   "outputs": [],
   "source": [
    "nummers = [8, 2, 3, 15, 7, 19]\n",
    "\n",
    "nummers2 = []\n",
    "for nummer in nummers:\n",
    "    if nummer > 5:\n",
    "        nummers2.append(nummer)\n",
    "\n",
    "print(nummers2)"
   ]
  },
  {
   "cell_type": "markdown",
   "id": "90336fce",
   "metadata": {},
   "source": [
    "**[8]** Maak een versie van de code uit de vraag hierboven, waarin de lijst `nummers2` niet gebruikt wordt. In plaats daarvan is er een variabele die het aantal elementen groter dan 5 en kleiner dan 16 telt."
   ]
  },
  {
   "cell_type": "code",
   "execution_count": null,
   "id": "3d5f1e3f",
   "metadata": {},
   "outputs": [],
   "source": [
    "# Jouw code hier"
   ]
  },
  {
   "cell_type": "markdown",
   "id": "01a51a8f",
   "metadata": {},
   "source": [
    "**[9]** Schrijf een stukje code dat een lijst maakt van alle getallen tussen 0 en n die deelbaar zijn door 3 en 5 (deelbaar betekent dat het resultaat een geheel getal is, en dus ook dat de rest (modulo) 0 is). Gebruik de functie `range()`, en kies zelf een waarde voor `n`. Tip: begin met `n` niet gelijk heel groot."
   ]
  },
  {
   "cell_type": "code",
   "execution_count": null,
   "id": "3dff672c",
   "metadata": {},
   "outputs": [],
   "source": [
    "# Jouw code hier"
   ]
  },
  {
   "cell_type": "markdown",
   "id": "9d2798aa",
   "metadata": {},
   "source": [
    "### Numpy"
   ]
  },
  {
   "cell_type": "markdown",
   "id": "2144ea5b",
   "metadata": {},
   "source": [
    "`numpy` is een module waar heel veel numerieke functionaliteit voor Python in zit. Met name lineare algebra (vectoren en matrices), maar ook een random number generator. Om daar gebruik van te kunnen maken wordt nagenoeg altijd deze `import` statement gebruikt:"
   ]
  },
  {
   "cell_type": "code",
   "execution_count": null,
   "id": "b1a0c8c5",
   "metadata": {},
   "outputs": [],
   "source": [
    "import numpy as np"
   ]
  },
  {
   "cell_type": "markdown",
   "id": "c114f6a2",
   "metadata": {},
   "source": [
    "Dat betekent, dat we vanaf nu dingen uit die module kunnen gebruiken door alleen maar `np` te typen (scheelt weer), dus bijvoorbeeld `np.array(lijst)` om van een lijst een numpy array te maken, of `np.random.randint(0, 10)` voor een random getal tussen 0 en 10. \n",
    "\n",
    "Overigens kun je ook gewoon `import numpy` typen, maar dan moet je overal `np` door `numpy` vervangen. Dus dan typ je `numpy.array(lijst)` en `numpy.random.randint(0,10)`. In nagenoeg alle code gebruikt iedereen `np` als afkorting."
   ]
  },
  {
   "cell_type": "markdown",
   "id": "93211d32",
   "metadata": {},
   "source": [
    "**[1]** Verander deze lijst in een numpy array"
   ]
  },
  {
   "cell_type": "code",
   "execution_count": null,
   "id": "9e341a5b",
   "metadata": {},
   "outputs": [],
   "source": [
    "lijst = [3, 8, 1.1, 5]\n",
    "# Jouw code hier"
   ]
  },
  {
   "cell_type": "markdown",
   "id": "d650c30d",
   "metadata": {},
   "source": [
    "**[demo]** Ter demonstratie: probeer de volgende cellen uit te voeren en begrijp het verschil!"
   ]
  },
  {
   "cell_type": "code",
   "execution_count": null,
   "id": "4bb0418a",
   "metadata": {},
   "outputs": [],
   "source": [
    "lijst = [3, 8, 1.1, 5]\n",
    "print(lijst * 5)"
   ]
  },
  {
   "cell_type": "code",
   "execution_count": null,
   "id": "01a29867",
   "metadata": {},
   "outputs": [],
   "source": [
    "lijst = np.array([3,8,1.1,5])\n",
    "print(lijst * 5)"
   ]
  },
  {
   "cell_type": "markdown",
   "id": "3d607f6c",
   "metadata": {},
   "source": [
    "**[2]** Maak een nieuwe 1D numpy array gevuld met 0'en, van lengte 9 (hint: `np.zeros()`). Print de array. Zet dan het eerste en 3e element op 1 en print de array nog eens."
   ]
  },
  {
   "cell_type": "code",
   "execution_count": null,
   "id": "42363fa2",
   "metadata": {},
   "outputs": [],
   "source": [
    "# Jouw code hier"
   ]
  },
  {
   "cell_type": "markdown",
   "id": "a8a54924",
   "metadata": {},
   "source": [
    "**[3]** Maak nu een 2D array (een matrix) gevuld met 1'en, van dimensies 3 bij 4 (hint, `np.ones()`)"
   ]
  },
  {
   "cell_type": "code",
   "execution_count": null,
   "id": "8848311f",
   "metadata": {},
   "outputs": [],
   "source": [
    "# Jouw code hier"
   ]
  },
  {
   "cell_type": "markdown",
   "id": "f8741422",
   "metadata": {},
   "source": [
    "**[4]** Verander alle 1'en in deze matrix naar 0'en door gebruik te maken van indexing. De eerste doen we voor:"
   ]
  },
  {
   "cell_type": "code",
   "execution_count": null,
   "id": "a33330a8",
   "metadata": {},
   "outputs": [],
   "source": [
    "matrix = np.array([[1, 0, 0, 1], [1, 0, 1, 0], [0, 1, 0, 0], [0, 0, 0, 1]])\n",
    "print(\"Matrix is nu:\")\n",
    "print(matrix)\n",
    "\n",
    "matrix[0, 0] = 0\n",
    "# Jouw code hier\n",
    "\n",
    "print(\"Matrix is nu:\")\n",
    "print(matrix)"
   ]
  },
  {
   "cell_type": "markdown",
   "id": "9529dcf6",
   "metadata": {},
   "source": [
    "**[5]** Gebruik `np.dot()` om het product van de volgende matrices en vectoren te berekenen. Controleer ze (bijv met pen en papier)!"
   ]
  },
  {
   "cell_type": "code",
   "execution_count": null,
   "id": "a316d905",
   "metadata": {},
   "outputs": [],
   "source": [
    "A1 = np.array([[1,0], [0,1]])  # NB: Dit is een 'identiteits matrix', die je ook kunt maken als np.eye(2)\n",
    "v1 = np.array([1, 0])\n",
    "\n",
    "# Jouw code hier om A1.v1 te berekenen"
   ]
  },
  {
   "cell_type": "code",
   "execution_count": null,
   "id": "1d193299",
   "metadata": {},
   "outputs": [],
   "source": [
    "A2 = np.array([[0,1], [1,0]]) \n",
    "v2 = np.array([1, 0])\n",
    "\n",
    "# Jouw code hier om A2.v2 te berekenen\n",
    "\n",
    "# Extra: Bereken A2.A2.v2, wat valt je op? Wat zegt dat over A2.A2?"
   ]
  },
  {
   "cell_type": "code",
   "execution_count": null,
   "id": "b32032ab",
   "metadata": {},
   "outputs": [],
   "source": [
    "v1 = np.array([2, 3])\n",
    "v2 = np.array([4, 4])\n",
    "\n",
    "# Jouw code hier om v1.v2 te berekenen"
   ]
  },
  {
   "cell_type": "markdown",
   "id": "95fa7f6e",
   "metadata": {},
   "source": [
    "In de laatste opgave, is dit wat je verwacht van de `np.dot` operator? Wat gebeurt er als je `*` gebruikt?"
   ]
  },
  {
   "cell_type": "markdown",
   "id": "34af5559",
   "metadata": {},
   "source": [
    "---"
   ]
  },
  {
   "cell_type": "markdown",
   "id": "a8a9156b",
   "metadata": {},
   "source": [
    "## Getallen sommeren <a class='anchor' id='sommeren'></a> (5pt)"
   ]
  },
  {
   "cell_type": "markdown",
   "id": "29af513e",
   "metadata": {},
   "source": [
    "Schrijf een programma dat de som van alle getallen van 1 tot $n$ bij elkaar optelt. Daarbij is $n$ een variabele die je zelf kiest (hieronder kiezen we alvast `100`). Doe dit door middel van een `for-loop`, en print aan het einde van je programma ook nog $$\\frac{n(n+1)}{2}$$ om te zien dat deze overeenkomen."
   ]
  },
  {
   "cell_type": "code",
   "execution_count": null,
   "id": "5a7c4c98",
   "metadata": {},
   "outputs": [],
   "source": [
    "n = 100\n",
    "# Jouw code hier"
   ]
  },
  {
   "cell_type": "markdown",
   "id": "a9b1dcc8",
   "metadata": {},
   "source": [
    "---"
   ]
  },
  {
   "cell_type": "markdown",
   "id": "34b02481",
   "metadata": {},
   "source": [
    "## Wisselgeld <a class='anchor' id='wisselgeld'></a> (10pt)"
   ]
  },
  {
   "cell_type": "markdown",
   "id": "302b18af",
   "metadata": {},
   "source": [
    "Schrijf een programma dat het minimale aantal muntjes bepaald dat nodig is om wisselgeld terug te geven. Bijvoorbeeld: voor 49 cent zijn minimaal 7 muntjes nodig (2x 20, 1x5, 4x1). \n",
    "\n",
    "Het algoritme dat je hiervoor gaat schrijven wordt een zogenaamd 'greedy' (gretig) algoritme. Dat betekent dat het algoritme bij elke stap de beste keuze *op dat moment* maakt. Dat is niet altijd het beste voor het uiteindelijke resultaat (denk bijvoorbeeld aan een bordspel, waarbij je misschien eerst iets moet opofferen om vervolgens uiteindelijk te kunnen winnen), maar voor dit probleem is dat wel zo.\n",
    "\n",
    "Stel je dus voor dat de kassamedewerk(st)er 49 cent terug moet geven. Dan is het greedy algoritme: geef steeds het muntje met de hoogste waarde dat nog kan. Dus dan krijgen we:\n",
    "\n",
    "* Eerste muntje is 20ct, want dat past nog in 49. Dan is er nog 29 over.\n",
    "* In 29 past ook nog een keer 20ct, dus het tweede muntje is ook 20ct. Er is nog 9 over.\n",
    "* In 9 past 10 niet meer, maar 5ct wel. Dus die doen we en dan is er nog 4ct over.\n",
    "* Dan kan alleen 1ct, en dan nog 3 over. Dat gebeurt ook voor die laatste 3 cent.\n",
    "\n",
    "Hieronder de specificaties waar je code aan moet voldoen:\n",
    "\n",
    "* Jouw algoritme moet vragen om hoeveel euro wisselgeld (dus 0.49 voor 49 cent), en print vervolgens het aantal muntjes dat nodig is. Voor een extra uitdaging kun je ook proberen om bij te houden *welke* muntjes dat zijn, maar dat is niet vereist voor het correct uitvoeren van de opdracht.\n",
    "\n",
    "* De gebruiker mag ook komma-getallen invoeren, dus 1.27 betekent dat er 1 euro en 27 cent terug moeten. Nog steeds met de muntjes die we besproken hebben (dus geen hele euro munten of 50ct).\n",
    "\n",
    "* Als de gebruiker een onjuiste input geeft (dus geen getal, bijvoorbeeld, of een negatief getal), print dan dat de input verkeerd is. Dan moeten ze het programma opnieuw starten.\n",
    "\n",
    "* Gebruik voor deze opdracht geen extra modules (mocht je al weten wat dat zijn).\n",
    "\n",
    "Tot slot, hier wat **tips en hints**:\n",
    "\n",
    "* Denk er aan om de input van de gebruiker te veranderen in een geheel getal. Dus 0.49 wordt 49, omdat we werken met muntjes van 20, 10, 5 en 1. Dat maakt het geheel makkelijker.\n",
    "* Je kunt een for loop gebruiken, of bijvoorbeeld de modulo operator (26 % 8 = ?)\n",
    "* Gebruik de `round()` functie om getallen af te ronden. Probeer bijvoorbeeld `round(7.8)` en `round(7.2)`. Je kunt deze functie ook eens Google'en om er meer over te leren."
   ]
  },
  {
   "cell_type": "code",
   "execution_count": null,
   "id": "1b76f7eb",
   "metadata": {},
   "outputs": [],
   "source": [
    "# Jouw code hier"
   ]
  },
  {
   "cell_type": "markdown",
   "id": "b832d240",
   "metadata": {},
   "source": [
    "---"
   ]
  },
  {
   "cell_type": "markdown",
   "id": "181a743c",
   "metadata": {},
   "source": [
    "## Getallen gokken <a class='anchor' id='gokken'></a> (10pt)"
   ]
  },
  {
   "cell_type": "markdown",
   "id": "eb693603",
   "metadata": {},
   "source": [
    "Schrijf een programma dat:\n",
    "* Een willekeurig getal kiest tussen 0 en 9, en dat 'het_getal' noemt (hieronder al gedaan)\n",
    "* De gebruiker vraagt om te raden wat het getal is\n",
    "* Antwoordt met: \"Goed geraden\", als het getal goed geraden is, en anders \"Helaas!\". \n",
    "* Je mag er vanuit gaan dat de gebruiker alleen gehele getallen invoert\n",
    "\n",
    "Breidt je programma vervolgens uit, zodat het nu net zo lang blijft vragen totdat het getal goed geraden wordt. Bovendien zegt het programma 'hoger' of 'lager', als het gegokte getal te laag of te hoog is.\n",
    "\n",
    "**Tip**: Als je een error krijgt over de random getallen, zorg dan `numpy` goed geimporteerd is. De `import numpy as np` statement staat bij de oefenopgaven, en die kun je uitvoeren. Of je kunt `numpy` nog een keer importeren hier. Meestal worden alle `import` statements allemaal bovenaan in de eerste cel van een notebook geplaatst, zodat alles voor de rest van het notebook geimporteerd is.\n",
    "\n",
    "**Tip**: Bij deze opgave zal een `while-loop` goed van pas komen!"
   ]
  },
  {
   "cell_type": "code",
   "execution_count": null,
   "id": "7d9a62e0",
   "metadata": {},
   "outputs": [],
   "source": [
    "het_getal = np.random.randint(0,10)\n",
    "\n",
    "# Jouw code hier"
   ]
  },
  {
   "cell_type": "markdown",
   "id": "79592c9f",
   "metadata": {},
   "source": [
    "---"
   ]
  },
  {
   "cell_type": "markdown",
   "id": "3af9fa08",
   "metadata": {},
   "source": [
    "## Priemgetallen <a class='anchor' id='priemgetallen'></a> (10pt)"
   ]
  },
  {
   "cell_type": "markdown",
   "id": "e774297e",
   "metadata": {},
   "source": [
    "Schrijf een programma dat de eerste 1000 priemgetallen print. \n",
    "Doe dat in twee stappen:\n",
    "* 1) Schrijf een functie 'is_priem(x)' die True antwoord als x priem is, en False anders.\n",
    "* 2) Schrijf daarna een loop die van 1 naar boven blijft tellen, en bijhoudt hoeveel priemgetallen gevonden zijn. \n",
    "\n",
    "Voor deze stappen geven we je hier wat hulp in de code"
   ]
  },
  {
   "cell_type": "markdown",
   "id": "3abd1e8a",
   "metadata": {},
   "source": [
    "Algemene **tips**"
   ]
  },
  {
   "cell_type": "markdown",
   "id": "2cbc157e",
   "metadata": {},
   "source": [
    "* Test eerst je `is_priem(x)` functie op een paar voorbeelden (maak een nieuwe cell om te testen, die je straks weer kunt deleten)\n",
    "* Test je programma met 10 priemgetallen, niet gelijk 10000. \n",
    "* Even getallen zijn nooit priemgetallen, dus die hoef je niet te checken."
   ]
  },
  {
   "cell_type": "code",
   "execution_count": null,
   "id": "7d00a341",
   "metadata": {},
   "outputs": [],
   "source": [
    "def is_priem(x):\n",
    "    ''' Deze functie antwoordt True als input x een priemgetal is, en anders False. \n",
    "        We gaan er vanuit dat x een geheel getal is.\n",
    "    '''\n",
    "    \n",
    "    # Als de input het getal 1 of 2 is, is het priem.\n",
    "    # TODO: Jouw code hier\n",
    "    \n",
    "    # Als x een even getal is en groter dan 2, is het sowieso geen priemgetal\n",
    "    if( x % 2 == 0 and x > 2 ):\n",
    "        return False\n",
    "    \n",
    "    # Nu maken we een for-loop die van 2 tot en met x gaat, en tellen we hoeveel van de getallen delers zijn van x.\n",
    "    aantal_delers = 0\n",
    "    # Jouw code hier\n",
    "    \n",
    "    # Het getal is priem als er maar 1 deler is, namelijk het getal zelf."
   ]
  },
  {
   "cell_type": "code",
   "execution_count": null,
   "id": "30270430",
   "metadata": {},
   "outputs": [],
   "source": [
    "aantal_gevonden = 0\n",
    "\n",
    "# Begin met een while loop (waarom is dat handig?)\n",
    "# Jouw code hier"
   ]
  },
  {
   "cell_type": "markdown",
   "id": "71e5d91b",
   "metadata": {},
   "source": [
    "-----"
   ]
  },
  {
   "cell_type": "markdown",
   "id": "233757c3",
   "metadata": {},
   "source": [
    "## Goldbach <a class='anchor' id='goldbach'></a> (10pt)"
   ]
  },
  {
   "cell_type": "markdown",
   "id": "bdf5d9de",
   "metadata": {},
   "source": [
    "Schrijf een stukje code dat laat zien dat het `vermoeden van Goldbach` juist is voor alle even getallen tot en met 1000. Dat vermoeden zegt dat alle even getallen groter dan 2 op te splitsen zijn in een som van twee priemgetallen. Bijvoorbeeld\n",
    "\n",
    "```\n",
    " 4 = ...\n",
    " 6 = 3 + 3\n",
    " 8 = ...\n",
    "18 = 5 + 13\n",
    "20 = 3 + 17\n",
    "22 = 5 + 17\n",
    "24 = ...\n",
    "```\n",
    "\n",
    "Je kunt daarbij gebruik maken van de `is_priem(x)` functie die je bij de vorige opdracht hebt gemaakt, om een lijst te maken van alle priemgetallen die je nodig denkt te hebben. Als je die lijst `priem_getallen` noemt, kun je met deze constructie kijken of een getal in die lijst zit:\n",
    "\n",
    "```\n",
    "x = 31\n",
    "if x in priem_getallen:\n",
    "    print(f\"Ja, {x} staat in de lijst met priemgetallen.\")\n",
    "```\n",
    "\n",
    "of voor een hele rij aan getallen:\n",
    "```\n",
    "for x in range(1, 12):\n",
    "    if x in priem_getallen:\n",
    "        print(f\"{x} staat in de lijst.\")\n",
    "````\n",
    "\n",
    "Je hoeft deze constructie, en de lijst met priem getallen, niet per se te maken. Je kunt ook gewoon de *brute force* manier gebruiken, en voor elk getal kijken of het op te splitsen is in twee priemgetallen."
   ]
  },
  {
   "cell_type": "code",
   "execution_count": null,
   "id": "403b8c75",
   "metadata": {},
   "outputs": [],
   "source": [
    "# Jouw code hier"
   ]
  },
  {
   "cell_type": "markdown",
   "id": "501e1a32",
   "metadata": {},
   "source": [
    "---"
   ]
  },
  {
   "cell_type": "markdown",
   "id": "0479ae43",
   "metadata": {},
   "source": [
    "## Mario pyramides <a class='anchor' id='mario'></a>(10pt)"
   ]
  },
  {
   "cell_type": "markdown",
   "id": "1c38272c",
   "metadata": {},
   "source": [
    "Schrijf een functie die 'de pyramides uit Super Mario Brothers' tekent met hashtags (#) en spaties. Vraag de gebruiker eerst om de gewenste hoogte van de pyramide (met de beperking: een geheel getal niet groter dan 23). Als de gebruiker een onjuiste hoogte vraagt, vraagt jouw programma net zolang opnieuw totdat de invoer ok is. "
   ]
  },
  {
   "cell_type": "markdown",
   "id": "d8994ea9",
   "metadata": {},
   "source": [
    "![MarioPyramidePlaatje](https://github.com/spcourse/algorithms/raw/main/assets/mario.png)"
   ]
  },
  {
   "cell_type": "markdown",
   "id": "5fda9bf2",
   "metadata": {},
   "source": [
    "Als voorbeeld output zou je dit moeten kunnen namaken:\n",
    "\n",
    "```\n",
    "Voer de gewenste hoogte van de pyramide in: 5\n",
    "\n",
    "        # #\n",
    "      # # #\n",
    "    # # # #\n",
    "  # # # # #\n",
    "# # # # # #\n",
    "```"
   ]
  },
  {
   "cell_type": "markdown",
   "id": "d0b5f02f",
   "metadata": {},
   "source": [
    "Python heeft heel veel handige trucjes om je leven als programmeur makkelijker te maken. Maar het is belangrijk om de basis goed te hebben voordat je daarvan gebruik gaat maken. Vermijd daarom dus de volgende dingen in deze opdracht:\n",
    "\n",
    "* Gebruik geen multiplicatie van strings, dus `\"# \"*5` om `# # # # # ` te maken mag niet.\n",
    "* Gebruik geen andere modules (dus geen `import` statements)"
   ]
  },
  {
   "cell_type": "code",
   "execution_count": null,
   "id": "c2092b19",
   "metadata": {},
   "outputs": [],
   "source": [
    "def teken_mario_pyramide(hoogte):\n",
    "    ''' Deze functie tekent (met print statements) een pyramide van de gewenste hoogte '''\n",
    "    # Jouw code hier\n",
    "    \n",
    "# Rest van jouw code hier"
   ]
  },
  {
   "cell_type": "markdown",
   "id": "06cd817f",
   "metadata": {},
   "source": [
    "---"
   ]
  },
  {
   "cell_type": "markdown",
   "id": "fea4b5f9",
   "metadata": {},
   "source": [
    "## Bal omhoog schieten <a class='anchor' id='bal'></a> (10pt)"
   ]
  },
  {
   "cell_type": "markdown",
   "id": "26501c13",
   "metadata": {},
   "source": [
    "De hoogte van een bal, die op tijdstip $t = 0$ met snelheid $v_0$ vanaf de grond op $y_0 = 0$ recht omhoog geschoten wordt, heeft de volgende formule:\n",
    "\n",
    "$$ y(t) = \\frac{1}{2}gt^2 + v_0 * t, $$\n",
    "\n",
    "met $g = -9.81$ de zwaartekrachtsconstante.\n",
    "\n",
    "* Maak met `np.linspace()` een lijst van tijden $t$ van 0 tot 3 in 100 stappen. Noem deze array `tijden`. \n",
    "* Bereken vervolgens y(t) op elk van die tijstippen. Dat kan via een for-loop, maar ook direct door bijvoorbeeld `tijden**2` te gebruiken. Dit laatste kan alleen om dat `tijden` een numpy array is.\n",
    "* Maak een plot van de hoogte $y(t)$ als functie van $t$ op de x-as. \n",
    "  * Zorg dat er labels bij de assen staan!\n",
    "  * Plot een zwart, gestreept lijntje over de hele tijdsas, bij $y=0$ (voor de grond)\n",
    "* Interpreteer je plot!\n",
    "* Bonus: Pas `tijden` zo aan dat de laatste tijdstap die is waar de bal weer op $y=0$ terecht komt."
   ]
  },
  {
   "cell_type": "markdown",
   "id": "2783b7e7",
   "metadata": {},
   "source": [
    "Je doel is om het volgende plaatje na te maken:\n",
    "![BalPlaatje](https://github.com/everthemore/PRNA/raw/main/images/huiswerk1/BaanVanBal.png)"
   ]
  },
  {
   "cell_type": "code",
   "execution_count": null,
   "id": "379dd912",
   "metadata": {
    "scrolled": false
   },
   "outputs": [],
   "source": [
    "# Jouw code hier"
   ]
  },
  {
   "cell_type": "markdown",
   "id": "7a5ebcba",
   "metadata": {},
   "source": [
    "---"
   ]
  },
  {
   "cell_type": "markdown",
   "id": "1351dc72",
   "metadata": {},
   "source": [
    "## Vector velden <a class='anchor' id='vectorvelden'></a> (10pt)"
   ]
  },
  {
   "cell_type": "markdown",
   "id": "870e8bdf",
   "metadata": {},
   "source": [
    "Voor deze opgave gebruiken we specifiek de functie `arrow(x, y, dx, dy)`, die een pijltje plot met begin coordinaten `(x,y)` en lengte `dx` en `dy` in de x- en y-richting, respectievelijk, tekent. Om het wat makkelijker te maken, geven we je alvast de volgende voorbeeldcode. Zorg dat je begrijpt wat deze code doet!"
   ]
  },
  {
   "cell_type": "code",
   "execution_count": null,
   "id": "bde7da8d",
   "metadata": {},
   "outputs": [],
   "source": [
    "oorsprong = np.array([0,0])\n",
    "vector = np.array([0,1])\n",
    "\n",
    "plt.xlim(-2, 2)\n",
    "plt.ylim(-2, 2)\n",
    "plt.arrow( oorsprong[0], oorsprong[1], vector[0] - oorsprong[0], vector[1] - oorsprong[1], head_width=0.3, head_length=0.3, length_includes_head=True, color='black')"
   ]
  },
  {
   "cell_type": "markdown",
   "id": "40faedfe",
   "metadata": {},
   "source": [
    "Neem even aan dat de aarde een perfect klein puntje in het heelal is. We gaan een plot maken van het zwaartekrachtveld, met behulp van `plt.arrow`, en we gebruiken daarvoor ook `np.linspace()`. Volg het stappenplan hieronder.\n",
    "\n",
    "* Om te beginnen, maak twee arrays (genaamd `xs` en `ys`) met behulp van `np.linspace`, en laat die in 20 stappen van `-5.0` tot `5.0` lopen.\n",
    "* Gebruik vervolgens twee (genestelde) `for-loops` om op elke coordinaat `x,y` een pijl te tekenen met `plt.arrow(x,y, 0, 0.1)` (ze staan dan allemaal dezelfde kant op). Speel met de `head_width` en `head_length` om de pijltjes wat netter te krijgen. \n",
    "* Schrijf nu een functie `zwaartekracht(x,y)`, die twee waarden terug geeft: `dx` en `dy`, die de delta x en delta y aangeven van het pijltje op coordinaten `x` en `y`. Voor het zwaartekracht veld (zonder alle constanten, die laten we achterwege):\n",
    "$$ dx = -x, dy = -y $$.\n",
    "* Vervang nu je plot door de pijltjes in de juiste richting. De lengte van de pijltjes is nu constant, die willen we laten afhangen van de sterkte van het veld. Vervang dus:\n",
    "$$ dx = -x/(x^2 + y^2), $$\n",
    "en net zo voor `y`.\n",
    "\n",
    "Je uiteindelijke doel is om het onderstaande plaatje na te maken:\n",
    "\n",
    "![ZwaartekrachtPlaatje](https://github.com/everthemore/PRNA/raw/main/images/huiswerk1/zwaartekracht.png)"
   ]
  },
  {
   "cell_type": "code",
   "execution_count": null,
   "id": "6deaf7a0",
   "metadata": {},
   "outputs": [],
   "source": [
    "# Jouw code hier"
   ]
  },
  {
   "cell_type": "markdown",
   "id": "e4753521",
   "metadata": {},
   "source": [
    "---"
   ]
  },
  {
   "cell_type": "markdown",
   "id": "1864efc9",
   "metadata": {},
   "source": [
    "## Rotaties van vectoren door matrices <a class=\"anchor\" id=\"rotaties\"></a> (10pt)"
   ]
  },
  {
   "cell_type": "markdown",
   "id": "701db134",
   "metadata": {},
   "source": [
    "2D vectoren kun je interpreteren als pijltjes in een 2D plot (net zo voor hogere dimensies, overigens!). Om het pijltje ergens anders naar toe te laten wijzen, kunnen we gebruik maken van rotatie-matrices. Zo'n matrix vermenigvuldigen we met de vector, en het resultaat is een vector van dezelfde lengte maar die in een andere richting wijst. Een algemene rotatie matrix in 2D, die met-de-klok-mee roteert met een hoek $\\theta$, ziet er zo uit:\n",
    "\n",
    "$$ M(\\theta) = \\begin{pmatrix} \\cos(\\theta) & -\\sin(\\theta) \\\\ \\sin(\\theta) & \\cos(\\theta) \\end{pmatrix} $$\n",
    "\n",
    "Controleer voor jezelf of dit logisch is. Wat zou je bijvoorbeeld verwachten voor $\\theta = 0$ en $\\theta = \\pi$?"
   ]
  },
  {
   "cell_type": "markdown",
   "id": "27a16768",
   "metadata": {},
   "source": [
    "Schrijf nu een functie `roteer(theta, vector)`, die een vector teruggeeft die met een hoek `theta` gedraaid is.\n",
    "Die functie heeft twee stappen:\n",
    "* Maak de 2x2 rotatie matrix $M(\\theta)$ als numpy array, gebruik daarvoor `np.cos()` en `np.sin()`\n",
    "* Gebruik `np.dot()`"
   ]
  },
  {
   "cell_type": "code",
   "execution_count": null,
   "id": "40c7c73f",
   "metadata": {},
   "outputs": [],
   "source": [
    "def roteer(theta, vector):\n",
    "    # Jouw code hier    "
   ]
  },
  {
   "cell_type": "markdown",
   "id": "4ab86970",
   "metadata": {},
   "source": [
    "Gebruik `roteer(theta, vector)` om een plot te maken waarin je de oorspronkelijke vector laat zien, samen met een vector die 45 graden, 90 graden, en 180 graden gedraaid zijn. Daarbij kun je gebruik maken van `np.pi` voor $\\pi$. Het doel is om het volgende plaatje na te maken:\n",
    "\n",
    "![VectorenPlaatje](https://github.com/everthemore/PRNA/raw/main/images/huiswerk1/GeroteerdeVectoren.png)"
   ]
  },
  {
   "cell_type": "code",
   "execution_count": null,
   "id": "ca8c3b0d",
   "metadata": {
    "scrolled": false
   },
   "outputs": [],
   "source": [
    "# Jouw code hier"
   ]
  },
  {
   "cell_type": "markdown",
   "id": "46a1ca1b",
   "metadata": {},
   "source": [
    "---"
   ]
  },
  {
   "cell_type": "markdown",
   "id": "9168aed4",
   "metadata": {},
   "source": [
    "## [Bonus] Boter-Kaas-en-Eieren <a class='anchor' id='boterkaaseieren'></a> (10pt)"
   ]
  },
  {
   "cell_type": "markdown",
   "id": "e5d13280",
   "metadata": {},
   "source": [
    "Schrijf een programma waarmee je boter-kaas-en-eieren met twee spelers kunt spelen.\n",
    "\n",
    "Dat doen we in verschillende stappen. \n",
    "\n",
    "* 1) Maak een genestelde lijst (3x3) voor het spelbord genaamd `bord`, en vul die met strings `\" . \"`. \n",
    "* 2) Schrijf een functie `doe_zet(x,y,speler)`, die een \"X\" in hokje (x,y) zet als speler == 1, en een \"O\" als speler == 2. \n",
    "* 3) Schrijf een functie `teken_bord()`, die het huidige spelbord met print statements print, als voorbeeld:\n",
    "```\n",
    " . | X | O\n",
    " O | . | X\n",
    " . | . | . \n",
    "```\n",
    "* 4) Schrijf nu een functie `heeft_winnaar()` die alle mogelijke win-combinaties controleert, en kijkt of er een winnaar is. Deze functie antwoordt met 0 als er geen winnaar is, met 1 als speler 1 gewonnen heeft en met 2 als speler 2 gewonnen heeft.\n",
    "\n",
    "* 5) Schrijf nu een functie `is_over()` die kijkt of het spel over is. Het spel is over als er een winnaar is, of als er geen zetten meer mogelijk zijn. \n",
    "\n",
    "* 6) Schrijf nu de 'game loop', die spelers om hun zetten vraagt en uitvoert, net zolang totdat het spel voorbij is. Vergeet niet om de speler te wisselen na elke zet, en om na elke zet het spelbord te tekenen. "
   ]
  },
  {
   "cell_type": "markdown",
   "id": "34d38f90",
   "metadata": {},
   "source": [
    "## [Bonus] 3D Ascii Kubus <a class='anchor' id='ascii'></a> (5pt)"
   ]
  },
  {
   "cell_type": "markdown",
   "id": "87e82e05",
   "metadata": {},
   "source": [
    "Laat de onderstaande kubus alleen rond de `x`-as (die loopt van links naar rechts in de animatie) roteren"
   ]
  },
  {
   "cell_type": "code",
   "execution_count": null,
   "id": "e96c0041",
   "metadata": {},
   "outputs": [],
   "source": [
    "import numpy as np\n",
    "from IPython.display import clear_output\n",
    "\n",
    "screen_width = 180\n",
    "screen_height = 40\n",
    "\n",
    "def RotX(angle):\n",
    "    return np.array([[1, 0, 0],\n",
    "                     [0, np.cos(angle),np.sin(angle)],\n",
    "                     [0, -np.sin(angle),np.cos(angle)]])\n",
    "\n",
    "def RotY(angle):\n",
    "    return np.array([[np.cos(angle), 0, np.sin(angle)],\n",
    "                     [0,1,0],\n",
    "                     [-np.sin(angle),0, np.cos(angle)]])\n",
    "        \n",
    "class Cube():\n",
    "    def __init__(self, resolution):\n",
    "        super().__init__()\n",
    "        \n",
    "        self.center = np.zeros(3)\n",
    "        self.rotation = np.zeros(4)\n",
    "        \n",
    "        self.all_points = []\n",
    "        self.all_normals = []\n",
    "        \n",
    "        self.RotY = RotY(np.pi/180)\n",
    "        self.RotX = RotX(np.pi/165)\n",
    "        \n",
    "        # Front face\n",
    "        for x in np.linspace(-1,1,resolution):\n",
    "            for y in np.linspace(-1,1,resolution):\n",
    "                self.all_points.append(np.array([x,y,1]))\n",
    "                self.all_normals.append(np.array([0,0,1]))\n",
    "                \n",
    "        # Back face\n",
    "        for x in np.linspace(-1,1,resolution):\n",
    "            for y in np.linspace(-1,1,resolution):\n",
    "                self.all_points.append(np.array([x,y,-1]))\n",
    "                self.all_normals.append(np.array([0,0,-1]))\n",
    "                \n",
    "        # Side face\n",
    "        for x in np.linspace(-1,1,resolution):\n",
    "            for y in np.linspace(-1,1,resolution):\n",
    "                self.all_points.append(np.array([1,x,y]))\n",
    "                self.all_normals.append(np.array([-1,0,0]))\n",
    "                \n",
    "        # Side face\n",
    "        for x in np.linspace(-1,1,resolution):\n",
    "            for y in np.linspace(-1,1,resolution):\n",
    "                self.all_points.append(np.array([-1,x,y]))\n",
    "                self.all_normals.append(np.array([1,0,0]))\n",
    "                \n",
    "        # Top face\n",
    "        for x in np.linspace(-1,1,resolution):\n",
    "            for y in np.linspace(-1,1,resolution):\n",
    "                self.all_points.append(np.array([x,1,y]))\n",
    "                self.all_normals.append(np.array([0,-1,0]))\n",
    "                \n",
    "        # Bottom face\n",
    "        for x in np.linspace(-1,1,resolution):\n",
    "            for y in np.linspace(-1,1,resolution):\n",
    "                self.all_points.append(np.array([x,-1,y]))\n",
    "                self.all_normals.append(np.array([0,1,0]))\n",
    "                \n",
    "    def translate(self, v):\n",
    "        self.center += v\n",
    "        for i in range(len(self.all_points)):\n",
    "            self.all_points[i] += v\n",
    "            self.all_normals[i] = self.all_normals[i] + v\n",
    "            \n",
    "    def rotate(self):\n",
    "        # Store original position\n",
    "        o = np.copy(self.center)\n",
    "        \n",
    "        # move to origin\n",
    "        self.translate(-self.center)\n",
    "        \n",
    "        # rotate all points\n",
    "        for i in range(len(self.all_points)):\n",
    "            self.all_points[i] = np.dot(np.dot(self.RotX,self.RotY), self.all_points[i])\n",
    "            self.all_normals[i] = np.dot(np.dot(self.RotX,self.RotY), self.all_normals[i])\n",
    "        \n",
    "        # Translate back\n",
    "        self.translate(o)\n",
    "        \n",
    "        return\n",
    "    \n",
    "      \n",
    "luminances = \".,-~:;=!*#$@\"\n",
    "def render(obj, K, directional_light):\n",
    "    z_buffer = np.zeros((screen_width, screen_height))\n",
    "    screen_buffer = -1*np.ones((screen_width, screen_height))\n",
    "    \n",
    "    for i in range(len(obj.all_points)):\n",
    "        x,y,z = obj.all_points[i]\n",
    "        n = obj.all_normals[i]\n",
    "        zinv = 1/z\n",
    "        \n",
    "        px = int(screen_width/2) + int(x*K*zinv)\n",
    "        py = int(screen_height/2) - int(y*K*zinv)\n",
    "        \n",
    "        if( px < 0 or px >= screen_width ):\n",
    "            continue\n",
    "        if( py < 0 or py >= screen_height ):\n",
    "            continue\n",
    "            \n",
    "        if zinv > z_buffer[px, py]:\n",
    "            z_buffer[px,py] = zinv\n",
    "\n",
    "            # Compute the luminance (ranges from -1 to 1)\n",
    "            luminance = np.dot(directional_light, n)#/(np.linalg.norm(directional_light)*np.linalg.norm(n))\n",
    "            if( luminance >= 0 ):\n",
    "                screen_buffer[px,py] = int(luminance)\n",
    "                        \n",
    "    for i in range(screen_height):\n",
    "        line = \"\"\n",
    "        for j in range(screen_width):\n",
    "            if( screen_buffer[j][i] != -1 ):\n",
    "                line += \"%s\"%(luminances[int(screen_buffer[j][i])])\n",
    "            else: line += \" \"\n",
    "        print(line)"
   ]
  },
  {
   "cell_type": "code",
   "execution_count": null,
   "id": "7bb1450e",
   "metadata": {},
   "outputs": [],
   "source": [
    "cube = Cube(30)\n",
    "import sys\n",
    "offset = 8\n",
    "cube.translate(np.array([-3, 0, offset]))\n",
    "\n",
    "K1 = screen_width*offset*2/(32);\n",
    "\n",
    "for i in range(200):\n",
    "    clear_output(True)\n",
    "    render(cube, K1, [0, -1, 1])\n",
    "    sys.stdout.flush()\n",
    "    cube.rotate()"
   ]
  },
  {
   "cell_type": "code",
   "execution_count": null,
   "id": "3703925d",
   "metadata": {},
   "outputs": [],
   "source": []
  }
 ],
 "metadata": {
  "kernelspec": {
   "display_name": "Python 3 (ipykernel)",
   "language": "python",
   "name": "python3"
  },
  "language_info": {
   "codemirror_mode": {
    "name": "ipython",
    "version": 3
   },
   "file_extension": ".py",
   "mimetype": "text/x-python",
   "name": "python",
   "nbconvert_exporter": "python",
   "pygments_lexer": "ipython3",
   "version": "3.11.4"
  }
 },
 "nbformat": 4,
 "nbformat_minor": 5
}
