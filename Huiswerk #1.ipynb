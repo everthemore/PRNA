{
 "cells": [
  {
   "cell_type": "markdown",
   "id": "2fc589f8",
   "metadata": {},
   "source": [
    "# Huiswerk #1"
   ]
  },
  {
   "cell_type": "markdown",
   "id": "5c86ed51",
   "metadata": {},
   "source": [
    "## Algemene opmerkingen"
   ]
  },
  {
   "cell_type": "markdown",
   "id": "3a70f84d",
   "metadata": {},
   "source": [
    "Dit notebook bevat alle opgaven die je in moet leveren als huiswerk set #1. Er zijn in totaal 110 punten te halen, waarbij alle scores van 100 en hoger tellen als een 10. "
   ]
  },
  {
   "cell_type": "markdown",
   "id": "6d0d83fa",
   "metadata": {},
   "source": [
    "Inleveren gaat via Brightspace, waar je je ingevulde notebook kunt uploaden."
   ]
  },
  {
   "cell_type": "markdown",
   "id": "f570d276",
   "metadata": {},
   "source": [
    "De beoordeling van de opgaven gaat niet alleen over het juiste resultaat, maar ook over de leesbaarheid en structuur van de code (ruwweg 70% functionaliteit, en 30% leesbaarheid/structuur). Zorg er dus voor dat het goed na te kijken is, en dat je code comments heeft die uitleggen wat er gebeurt."
   ]
  },
  {
   "cell_type": "markdown",
   "id": "f938a349",
   "metadata": {},
   "source": [
    "### Opgaven en puntenverdeling"
   ]
  },
  {
   "cell_type": "markdown",
   "id": "3dfcd749",
   "metadata": {},
   "source": [
    "* Oefenopdrachten (10pt)\n",
    "* Waterverbruik (5pt)\n",
    "* Multiplicator (5pt)\n",
    "* Getallen gokken #1 (5pt)\n",
    "* Getallen sommeren (10pt)\n",
    "* Getallen gokken #2 (10pt)\n",
    "* Priemgetallen (10pt)\n",
    "* Goldbach (10pt)\n",
    "* Wisselgeld (15pt)\n",
    "* Mario (15pt)\n",
    "* [**Bonus**] Boter-Kaas-en-Eieren (10pt)"
   ]
  },
  {
   "cell_type": "markdown",
   "id": "b5ae657e",
   "metadata": {},
   "source": [
    "## Oefenopdrachten (10pt)"
   ]
  },
  {
   "cell_type": "markdown",
   "id": "501940c8",
   "metadata": {},
   "source": [
    "### Loops"
   ]
  },
  {
   "cell_type": "markdown",
   "id": "8aff96d5",
   "metadata": {},
   "source": [
    "#### [1] Schrijf een for-loop die de getallen 1 tot en met 50 print."
   ]
  },
  {
   "cell_type": "code",
   "execution_count": null,
   "id": "a159e947",
   "metadata": {},
   "outputs": [],
   "source": [
    "# Jouw code hier"
   ]
  },
  {
   "cell_type": "markdown",
   "id": "240c7df9",
   "metadata": {},
   "source": [
    "#### [2] Schrijf een for-loop die de getallen 1 tot en met 50 print in stappen van 2."
   ]
  },
  {
   "cell_type": "code",
   "execution_count": null,
   "id": "c234f5a8",
   "metadata": {},
   "outputs": [],
   "source": [
    "# Jouw code hier"
   ]
  },
  {
   "cell_type": "markdown",
   "id": "0b881f53",
   "metadata": {},
   "source": [
    "#### [3] Schrijf een for-loop over de getallen 0 tot en met 100 in stappen van 4 loopt, en ze allemaal optelt. Print het resultaat"
   ]
  },
  {
   "cell_type": "code",
   "execution_count": null,
   "id": "4ad5819b",
   "metadata": {},
   "outputs": [],
   "source": [
    "# Jouw code hier"
   ]
  },
  {
   "cell_type": "markdown",
   "id": "ae678e57",
   "metadata": {},
   "source": [
    "#### [4] Schrijf een while-loop die het getal 128 blijft delen door 2 totdat het resultaat 1 is. Print de waarde van het getal elke stap."
   ]
  },
  {
   "cell_type": "code",
   "execution_count": null,
   "id": "8d590d48",
   "metadata": {},
   "outputs": [],
   "source": [
    "s = 128\n",
    "# Jouw code hier"
   ]
  },
  {
   "cell_type": "markdown",
   "id": "b894dddf",
   "metadata": {},
   "source": [
    "#### [5] Gebaseerd op de vorige oefening, voeg een extra variabele `i` toe die bijhoudt hoevaak er al gedeeld is. Print de waarde van `i` aan het einde."
   ]
  },
  {
   "cell_type": "code",
   "execution_count": null,
   "id": "d365f429",
   "metadata": {},
   "outputs": [],
   "source": [
    "s = 128\n",
    "# Jouw code hier"
   ]
  },
  {
   "cell_type": "markdown",
   "id": "bc5aeb4c",
   "metadata": {},
   "source": [
    "#### [6] Herschrijf de volgende code in een while-loop in plaats van een for-loop"
   ]
  },
  {
   "cell_type": "code",
   "execution_count": null,
   "id": "13dabd93",
   "metadata": {},
   "outputs": [],
   "source": [
    "for i in range(1, 5, 2):\n",
    "    print(i)\n",
    "    \n",
    "# Jouw code hier"
   ]
  },
  {
   "cell_type": "markdown",
   "id": "d408dd98",
   "metadata": {},
   "source": [
    "#### [7] Herschrijf de volgende code zodat er een for-loop in plaats van een while-loop gebruikt wordt"
   ]
  },
  {
   "cell_type": "code",
   "execution_count": null,
   "id": "be4d1095",
   "metadata": {},
   "outputs": [],
   "source": [
    "x = 2\n",
    "while x < 12:\n",
    "    print(x)\n",
    "    x += 3\n",
    "    \n",
    "# Jouw code hier"
   ]
  },
  {
   "cell_type": "markdown",
   "id": "cdb9043b",
   "metadata": {},
   "source": [
    "#### [8] Nu kijken we naar genestelde loops. Pas het volgende programma aan, zodat de output er als volgt uit komt te zien\n",
    "```\n",
    "x = 1, y = 1\n",
    "x = 1, y = 2\n",
    "x = 1, y = 3\n",
    "De waarde van x is nu 1, en we hebben nu de loop over y gehad.\n",
    "x = 2, y = 1\n",
    "x = 2, y = 2\n",
    "x = 2, y = 3\n",
    "De waarde van x is nu 2, en we hebben nu de loop over y gehad.\n",
    "...\n",
    "```\n"
   ]
  },
  {
   "cell_type": "code",
   "execution_count": null,
   "id": "dce543ef",
   "metadata": {},
   "outputs": [],
   "source": [
    "for x in range(1, 6):\n",
    "    for y in range(1,4):\n",
    "        print(f\"x = {x}, y = {y}\")"
   ]
  },
  {
   "cell_type": "markdown",
   "id": "7e74b08d",
   "metadata": {},
   "source": [
    "### Lijsten"
   ]
  },
  {
   "cell_type": "markdown",
   "id": "28eac957",
   "metadata": {},
   "source": [
    "#### [1]\n",
    "Print het eerste en laatste element van de lijst hieronder:"
   ]
  },
  {
   "cell_type": "code",
   "execution_count": null,
   "id": "aa30aabb",
   "metadata": {},
   "outputs": [],
   "source": [
    "lijst = [\"appel\", \"peer\", 5, 7.2, \"fruit\"]\n",
    "\n",
    "# Jouw code hier"
   ]
  },
  {
   "cell_type": "markdown",
   "id": "0e01a56f",
   "metadata": {},
   "source": [
    "#### [2]\n",
    "Verander het 4e element (7.2) van `lijst` naar \"meloen\", en print de lijst"
   ]
  },
  {
   "cell_type": "code",
   "execution_count": null,
   "id": "6f8477cd",
   "metadata": {},
   "outputs": [],
   "source": [
    "lijst = [\"appel\", \"peer\", 5, 7.2, \"fruit\"]\n",
    "\n",
    "# Jouw code hier"
   ]
  },
  {
   "cell_type": "markdown",
   "id": "c6cf14e4",
   "metadata": {},
   "source": [
    "#### [3]\n",
    "Schrijf een loop die elk element van de volgende lijst op een nieuwe regel print"
   ]
  },
  {
   "cell_type": "code",
   "execution_count": null,
   "id": "824e2a2b",
   "metadata": {},
   "outputs": [],
   "source": [
    "boodschappen_lijst = [\"5 appels\", \"1 pak meel\", \"1 potje kaneel\", \"1 pak boter\", \"1 citroen\"]\n",
    "\n",
    "# Jouw code hier"
   ]
  },
  {
   "cell_type": "markdown",
   "id": "8c48a6e2",
   "metadata": {},
   "source": [
    "#### [4]\n",
    "Schrijf een loop die een lijst maakt, gevuld met de getallen van 1 tot en *met* 30. \n",
    "\n",
    "Tip: als je nu denkt aan het zelf typen van een lijst [1, 2, 3, ..., 30], denk dan nog eens goed na en Google eens naar de functie `range()`"
   ]
  },
  {
   "cell_type": "markdown",
   "id": "a980a411",
   "metadata": {},
   "source": [
    "#### [5]\n",
    "Schrijf een loop die de som van de onderstaande elementen berekend"
   ]
  },
  {
   "cell_type": "code",
   "execution_count": null,
   "id": "58a5f127",
   "metadata": {},
   "outputs": [],
   "source": [
    "lijst = [9, 10, 11, 12]\n",
    "som = 0\n",
    "\n",
    "# Jouw code hier"
   ]
  },
  {
   "cell_type": "markdown",
   "id": "ba47752f",
   "metadata": {},
   "source": [
    "#### [6]\n",
    "De onderstaande code loopt over elk element van de lijst 'nummers' hieronder. Als het getal groter is dan 5, wordt het aan de lijst 'nummers2' toegevoegd"
   ]
  },
  {
   "cell_type": "code",
   "execution_count": null,
   "id": "c68e2a87",
   "metadata": {},
   "outputs": [],
   "source": [
    "nummers = [8, 2, 3, 15, 7, 19]\n",
    "\n",
    "nummers2 = []\n",
    "for nummer in nummers:\n",
    "    if nummer > 5:\n",
    "        nummers2.append(nummer)\n",
    "\n",
    "print(nummers2)"
   ]
  },
  {
   "cell_type": "markdown",
   "id": "9dddac40",
   "metadata": {},
   "source": [
    "Pas deze code hierboven aan, zodat alleen getallen groter dan 5 en kleiner dan 16 in de lijst 'nummers2' komen."
   ]
  },
  {
   "cell_type": "markdown",
   "id": "90336fce",
   "metadata": {},
   "source": [
    "#### [7]\n",
    "Maak een versie van de code uit de vorige vraag ([6]), waarin de lijst 'nummers2' niet gebruikt wordt. In plaats daarvan is er een variabele die het aantal elementen groter dan 5 en kleiner dan 16 telt."
   ]
  },
  {
   "cell_type": "code",
   "execution_count": null,
   "id": "3d5f1e3f",
   "metadata": {},
   "outputs": [],
   "source": [
    "# Jouw code hier"
   ]
  },
  {
   "cell_type": "markdown",
   "id": "01a51a8f",
   "metadata": {},
   "source": [
    "#### [8]\n",
    "Schrijf een stukje code dat een lijst maakt van alle getallen tussen 0 en n die deelbaar zijn door 3 en 5 (deelbaar is dat het resultaat een geheel getal is). Gebruik de functie `range()`, en kies zelf een waarde voor `n`. Tip: begin met `n` niet gelijk heel groot."
   ]
  },
  {
   "cell_type": "code",
   "execution_count": null,
   "id": "3dff672c",
   "metadata": {},
   "outputs": [],
   "source": [
    "# Jouw code hier"
   ]
  },
  {
   "cell_type": "markdown",
   "id": "34af5559",
   "metadata": {},
   "source": [
    "---"
   ]
  },
  {
   "cell_type": "markdown",
   "id": "4508425f",
   "metadata": {},
   "source": [
    "## Waterverbruik (5pt)"
   ]
  },
  {
   "cell_type": "markdown",
   "id": "ecf413d9",
   "metadata": {},
   "source": [
    "Schrijf een kort programma dat de gebruiker vraagt 'Hoeveel minuten staat u per keer onder de douche?'. De gebruiker kan vervolgens een getal intypen, waarop het programma antwoordt met 'Dan verbruikt u per keer het equivalent van X flessen water'. Het getal X is dan het aantal minuten vermenigvuldigd met 6, omdat een minuut onder de douche ongeveer 6L water verbruikt (en we uitgaan van 1L flessen).  "
   ]
  },
  {
   "cell_type": "code",
   "execution_count": null,
   "id": "b644be6d",
   "metadata": {},
   "outputs": [],
   "source": [
    "# Jouw code hier"
   ]
  },
  {
   "cell_type": "markdown",
   "id": "aeb195b9",
   "metadata": {},
   "source": [
    "---"
   ]
  },
  {
   "cell_type": "markdown",
   "id": "76db3efe",
   "metadata": {},
   "source": [
    "## Multiplicator (5pt)"
   ]
  },
  {
   "cell_type": "markdown",
   "id": "99028a3d",
   "metadata": {},
   "source": [
    "Schrijf een kort programma dat de gebruiker vraagt om twee getallen in te voeren (in twee aparte vragen, dus niet tegelijk). Het programma vertelt de gebruiker vervolgens wat het product van beide getallen is."
   ]
  },
  {
   "cell_type": "code",
   "execution_count": null,
   "id": "fd73e42b",
   "metadata": {},
   "outputs": [],
   "source": [
    "# Jouw code hier"
   ]
  },
  {
   "cell_type": "markdown",
   "id": "97537715",
   "metadata": {},
   "source": [
    "---"
   ]
  },
  {
   "cell_type": "markdown",
   "id": "181a743c",
   "metadata": {},
   "source": [
    "## Getallen gokken, deel #1"
   ]
  },
  {
   "cell_type": "markdown",
   "id": "eb693603",
   "metadata": {},
   "source": [
    "Schrijf een programma dat:\n",
    "* Een willekeurig getal kiest tussen 0 en 9, en dat 'het_getal' noemt (hieronder al gedaan)\n",
    "* De gebruiker vraagt om te raden wat het getal is\n",
    "* Antwoordt met: \"Goed geraden\", als het getal goed geraden is, en anders \"Helaas!\". "
   ]
  },
  {
   "cell_type": "code",
   "execution_count": null,
   "id": "50a75c8a",
   "metadata": {},
   "outputs": [],
   "source": [
    "import random\n",
    "het_getal = random.randint(0,10)\n",
    "\n",
    "# Jouw code hier"
   ]
  },
  {
   "cell_type": "markdown",
   "id": "a9b1dcc8",
   "metadata": {},
   "source": [
    "---"
   ]
  },
  {
   "cell_type": "markdown",
   "id": "a8a9156b",
   "metadata": {},
   "source": [
    "## Getallen sommeren"
   ]
  },
  {
   "cell_type": "markdown",
   "id": "29af513e",
   "metadata": {},
   "source": [
    "Schrijf een programma dat de som van alle getallen van 1 tot $n$ bij elkaar optelt. Daarbij is $n$ een variabele die je zelf kiest. Doe dit door middel van een `for-loop`, en print aan het einde van je programma ook nog $$\\frac{n(n+1)}{2}$$ om te zien dat deze overeenkomen."
   ]
  },
  {
   "cell_type": "code",
   "execution_count": null,
   "id": "5a7c4c98",
   "metadata": {},
   "outputs": [],
   "source": [
    "n = \n",
    "\n",
    "# Jouw code hier"
   ]
  },
  {
   "cell_type": "markdown",
   "id": "5e63acd4",
   "metadata": {},
   "source": [
    "---"
   ]
  },
  {
   "cell_type": "markdown",
   "id": "4cd88dab",
   "metadata": {},
   "source": [
    "## Getallen gokken, deel #2"
   ]
  },
  {
   "cell_type": "markdown",
   "id": "dccd387b",
   "metadata": {},
   "source": [
    "Schrijf een programma dat nagenoeg hetzelfde doet als `Getallen gokken, deel #1`, maar dat nu net zo lang blijft vragen totdat het getal goed geraden wordt. Bovendien zegt het programma 'hoger' of 'lager', als het gegokte getal te laag of te hoog is."
   ]
  },
  {
   "cell_type": "code",
   "execution_count": null,
   "id": "7d9a62e0",
   "metadata": {},
   "outputs": [],
   "source": [
    "import random\n",
    "het_getal = random.randint(0,10)\n",
    "\n",
    "# Jouw code hier"
   ]
  },
  {
   "cell_type": "markdown",
   "id": "7a5ebcba",
   "metadata": {},
   "source": [
    "---"
   ]
  },
  {
   "cell_type": "markdown",
   "id": "3af9fa08",
   "metadata": {},
   "source": [
    "## Priemgetallen"
   ]
  },
  {
   "cell_type": "markdown",
   "id": "e774297e",
   "metadata": {},
   "source": [
    "Schrijf een programma dat de eerste 1000 priemgetallen print. \n",
    "Doe dat in twee stappen:\n",
    "* 1) Schrijf een functie 'is_priem(x)' die True antwoord als x priem is, en False anders.\n",
    "* 2) Schrijf een loop die van 1 naar boven blijft tellen, en bijhoudt hoeveel priemgetallen gevonden zijn. \n",
    "\n",
    "Voor deze stappen geven we je hier wat hulp in de code"
   ]
  },
  {
   "cell_type": "markdown",
   "id": "3abd1e8a",
   "metadata": {},
   "source": [
    "Algemene **tips**"
   ]
  },
  {
   "cell_type": "markdown",
   "id": "2cbc157e",
   "metadata": {},
   "source": [
    "* Test eerst je `is_priem(x)` functie op een paar voorbeelden (maak een nieuwe cell om te testen, die je straks weer kunt deleten)\n",
    "* Test je programma met 10 priemgetallen, niet gelijk 10000. \n",
    "* Even getallen zijn nooit priemgetallen, dus die hoef je niet te checken."
   ]
  },
  {
   "cell_type": "code",
   "execution_count": null,
   "id": "7d00a341",
   "metadata": {},
   "outputs": [],
   "source": [
    "def is_priem(x):\n",
    "    ''' Deze functie antwoordt True als input x een priemgetal is, en anders False. \n",
    "        We gaan er vanuit dat x een geheel getal is.\n",
    "    '''\n",
    "    \n",
    "    # Als x een even getal is, is het sowieso geen priemgetal\n",
    "    if( x % 2 == 0 ):\n",
    "        return False\n",
    "    \n",
    "    # Nu maken we een for-loop die van 2 tot aan x gaat, en tellen we hoeveel van de getallen delers zijn van x.\n",
    "    aantal_delers = 0\n",
    "    # Jouw code hier\n",
    "    \n",
    "    # Het getal is priem als er maar 1 deler is, namelijk het getal zelf."
   ]
  },
  {
   "cell_type": "code",
   "execution_count": null,
   "id": "30270430",
   "metadata": {},
   "outputs": [],
   "source": [
    "aantal_gevonden = 0\n",
    "\n",
    "# Begin met een while loop (waarom is dat handig?)\n",
    "# Jouw code hier"
   ]
  },
  {
   "cell_type": "markdown",
   "id": "35fa4687",
   "metadata": {},
   "source": [
    "---"
   ]
  },
  {
   "cell_type": "markdown",
   "id": "233757c3",
   "metadata": {},
   "source": [
    "## Goldbach"
   ]
  },
  {
   "cell_type": "markdown",
   "id": "bdf5d9de",
   "metadata": {},
   "source": [
    "Schrijf een stukje code dat laat zijn dat het `vermoeden van Goldbach` juist is voor alle even getallen tot en met 1000. Dat vermoeden zegt dat alle even getallen groter dan 2 op te splitsen zijn in een som van twee priemgetallen. Bijvoorbeeld\n",
    "\n",
    "```\n",
    " 4 = ...\n",
    " 6 = 3 + 3\n",
    " 8 = ...\n",
    "18 = 5 + 13\n",
    "20 = 3 + 17\n",
    "22 = 5 + 17\n",
    "24 = ...\n",
    "```\n",
    "\n",
    "Je kunt daarbij gebruik maken van de `is_priem(x)` functie die je bij de vorige opdracht hebt gemaakt, om een lijst te maken van alle priemgetallen die je nodig denkt te hebben. Als je die lijst `priem_getallen` noemt, kun je met deze constructie kijken of een getal in die lijst zit:\n",
    "\n",
    "```\n",
    "x = 31\n",
    "if x in priem_getallen:\n",
    "    print(f\"Ja, {x} staat in de lijst met priemgetallen.\")\n",
    "```\n",
    "\n",
    "of voor een hele rij aan getallen:\n",
    "```\n",
    "for x in range(1, 12):\n",
    "    if x in priem_getallen:\n",
    "        print(f\"{x} staat in de lijst.\")\n",
    "````\n",
    "\n",
    "Je hoeft deze constructie, en de lijst met priem getallen, niet per se te maken. Je kunt ook gewoon de *brute force* manier gebruiken, en voor elk getal kijken of het op te splitsen is in twee priemgetallen."
   ]
  },
  {
   "cell_type": "code",
   "execution_count": null,
   "id": "403b8c75",
   "metadata": {},
   "outputs": [],
   "source": [
    "# Jouw code hier"
   ]
  },
  {
   "cell_type": "markdown",
   "id": "501e1a32",
   "metadata": {},
   "source": [
    "---"
   ]
  },
  {
   "cell_type": "markdown",
   "id": "34b02481",
   "metadata": {},
   "source": [
    "## Wisselgeld"
   ]
  },
  {
   "cell_type": "markdown",
   "id": "302b18af",
   "metadata": {},
   "source": [
    "Schrijf een programma dat het minimale aantal muntjes bepaald dat nodig is om wisselgeld terug te geven. Bijvoorbeeld: voor 49 cent zijn minimaal 7 muntjes nodig (2x 20, 1x5, 4x1). \n",
    "\n",
    "Het algoritme dat je hiervoor gaat schrijven wordt een zogenaamd 'greedy' (gretig) algoritme. Dat betekent dat het algoritme bij elke stap de beste keuze *op dat moment* maakt. Dat is niet altijd het beste voor het uiteindelijke resultaat (denk bijvoorbeeld aan een bordspel, waarbij je misschien eerst iets moet opofferen om vervolgens uiteindelijk te kunnen winnen), maar voor dit probleem is dat wel zo.\n",
    "\n",
    "Stel je dus voor dat de kassamedewerk(st)er 49 cent terug moet geven. Dan is het greedy algoritme: geef steeds het muntje met de hoogste waarde dat nog kan. Dus dan krijgen we:\n",
    "\n",
    "* Eerste muntje is 20ct, want dat past nog in 49. Dan is er nog 29 over.\n",
    "* In 29 past ook nog een keer 20ct, dus het tweede muntje is ook 20ct. Er is nog 9 over.\n",
    "* In 9 past 10 niet meer, maar 5ct wel. Dus die doen we en dan is er nog 4ct over.\n",
    "* Dan kan alleen 1ct, en dan nog 3 over. Dat gebeurt ook voor die laatste 3 cent.\n",
    "\n",
    "Hieronder de specificaties waar je code aan moet voldoen:\n",
    "\n",
    "* Jouw algoritme moet vragen om hoeveel cent wisselgeld, en print vervolgens het aantal muntjes dat nodig is. Voor een extra uitdaging kun je ook proberen om bij te houden *welke* muntjes dat zijn, maar dat is niet vereist voor het correct uitvoeren van de opdracht.\n",
    "\n",
    "* De gebruiker mag ook komma-getallen invoeren, dus 1.27 betekent dat er 1 euro en 27 cent terug moeten. Nog steeds met de muntjes die we besproken hebben (dus geen hele euro munten of 50ct).\n",
    "\n",
    "* Als de gebruiker een onjuiste input geeft (dus geen getal, bijvoorbeeld), print dan dat de input verkeerd is, en geef de gebruiker een volgende kans.\n",
    "\n",
    "* Gebruik voor deze opdracht geen extra modules (mocht je al weten wat dat zijn).\n",
    "\n",
    "Tot slot, hier wat **tips en hints**:\n",
    "\n",
    "* Denk er aan om de input van de gebruiker te veranderen in een geheel getal. Dus 0.49 wordt 49, omdat we werken met muntjes van 20, 10, 5 en 1. Dat maakt het geheel makkelijker.\n",
    "* Je kunt een for loop gebruiken, of bijvoorbeeld de modulo operator (26 % 8 = ?)\n",
    "* Gebruik de `round()` functie om getallen af te ronden. Probeer bijvoorbeeld `round(7.8)` en `round(7.2)`. Je kunt deze functie ook eens Google'en om er meer over te leren."
   ]
  },
  {
   "cell_type": "code",
   "execution_count": null,
   "id": "1b76f7eb",
   "metadata": {},
   "outputs": [],
   "source": [
    "# Jouw code hier"
   ]
  },
  {
   "cell_type": "markdown",
   "id": "b832d240",
   "metadata": {},
   "source": [
    "---"
   ]
  },
  {
   "cell_type": "markdown",
   "id": "0479ae43",
   "metadata": {},
   "source": [
    "## Mario pyramides"
   ]
  },
  {
   "cell_type": "markdown",
   "id": "1c38272c",
   "metadata": {},
   "source": [
    "Schrijf een functie die 'de pyramides uit Super Mario Brothers' tekent met hashtags (#) en spaties. Vraag de gebruiker eerst om de gewenste hoogte van de pyramide (met de beperking: een geheel getal niet groter dan 23). Als de gebruiker een onjuiste hoogte vraagt, vraagt jouw programma net zolang opnieuw totdat de invoer ok is. "
   ]
  },
  {
   "cell_type": "markdown",
   "id": "d8994ea9",
   "metadata": {},
   "source": [
    "![MarioPyramidePlaatje](https://github.com/spcourse/algorithms/raw/main/assets/mario.png)"
   ]
  },
  {
   "cell_type": "markdown",
   "id": "5fda9bf2",
   "metadata": {},
   "source": [
    "Als voorbeeld output zou je dit moeten kunnen namaken:\n",
    "\n",
    "```\n",
    "Voer de gewenste hoogte van de pyramide in: 5\n",
    "\n",
    "        # #\n",
    "      # # #\n",
    "    # # # #\n",
    "  # # # # #\n",
    "# # # # # #\n",
    "```"
   ]
  },
  {
   "cell_type": "markdown",
   "id": "d0b5f02f",
   "metadata": {},
   "source": [
    "Python heeft heel veel handige trucjes om je leven als programmeur makkelijker te maken. Maar het is belangrijk om de basis goed te hebben voordat je daarvan gebruik gaat maken. Vermijd daarom dus de volgende dingen in deze opdracht:\n",
    "\n",
    "* Gebruik geen multiplicatie van strings, dus `\"# \"*5` om `# # # # # ` te maken mag niet.\n",
    "* Gebruik geen andere modules (dus geen `import` statements)"
   ]
  },
  {
   "cell_type": "code",
   "execution_count": 1,
   "id": "c2092b19",
   "metadata": {},
   "outputs": [],
   "source": [
    "def teken_mario_pyramide(hoogte):\n",
    "    ''' Deze functie tekent (met print statements) een pyramide van de gewenste hoogte '''\n",
    "    # Jouw code hier\n",
    "    \n",
    "# Rest van jouw code hier"
   ]
  },
  {
   "cell_type": "markdown",
   "id": "06cd817f",
   "metadata": {},
   "source": [
    "---"
   ]
  },
  {
   "cell_type": "markdown",
   "id": "9168aed4",
   "metadata": {},
   "source": [
    "## [Bonus] Boter-Kaas-en-Eieren (10pt)"
   ]
  },
  {
   "cell_type": "markdown",
   "id": "e5d13280",
   "metadata": {},
   "source": [
    "Schrijf een programma waarmee je boter-kaas-en-eieren met twee spelers kunt spelen.\n",
    "\n",
    "Dat doen we in verschillende stappen. \n",
    "\n",
    "* 1) Maak een genestelde lijst (3x3) voor het spelbord genaamd `bord`, en vul die met strings `\" . \"`. \n",
    "* 2) Schrijf een functie `doe_zet(x,y,speler)`, die een \"X\" in hokje (x,y) zet als speler == 1, en een \"O\" als speler == 2. \n",
    "* 3) Schrijf een functie `teken_bord()`, die het huidige spelbord met print statements print, als voorbeeld:\n",
    "```\n",
    " . | X | O\n",
    " O | . | X\n",
    " . | . | . \n",
    "```\n",
    "* 4) Schrijf nu een functie `heeft_winnaar()` die alle mogelijke win-combinaties controleert, en kijkt of er een winnaar is. Deze functie antwoordt met 0 als er geen winnaar is, met 1 als speler 1 gewonnen heeft en met 2 als speler 2 gewonnen heeft.\n",
    "\n",
    "* 5) Schrijf nu een functie `is_over()` die kijkt of het spel over is. Het spel is over als er een winnaar is, of als er geen zetten meer mogelijk zijn. \n",
    "\n",
    "* 6) Schrijf nu de 'game loop', die spelers om hun zetten vraagt en uitvoert, net zolang totdat het spel voorbij is. Vergeet niet om de speler te wisselen na elke zet, en om na elke zet het spelbord te tekenen. "
   ]
  },
  {
   "cell_type": "code",
   "execution_count": null,
   "id": "3f8bdcb1",
   "metadata": {},
   "outputs": [],
   "source": []
  }
 ],
 "metadata": {
  "kernelspec": {
   "display_name": "Python 3 (ipykernel)",
   "language": "python",
   "name": "python3"
  },
  "language_info": {
   "codemirror_mode": {
    "name": "ipython",
    "version": 3
   },
   "file_extension": ".py",
   "mimetype": "text/x-python",
   "name": "python",
   "nbconvert_exporter": "python",
   "pygments_lexer": "ipython3",
   "version": "3.9.12"
  }
 },
 "nbformat": 4,
 "nbformat_minor": 5
}
